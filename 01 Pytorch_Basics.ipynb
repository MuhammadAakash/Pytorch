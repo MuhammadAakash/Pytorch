{
  "nbformat": 4,
  "nbformat_minor": 0,
  "metadata": {
    "colab": {
      "name": "Pytorch Basics.ipynb",
      "provenance": [],
      "collapsed_sections": []
    },
    "kernelspec": {
      "name": "python3",
      "display_name": "Python 3"
    }
  },
  "cells": [
    {
      "cell_type": "markdown",
      "metadata": {
        "id": "VEgR8iA04gev"
      },
      "source": [
        "\n",
        "# **Pytorch Basic(Functions and Operations of Tensors)**\n",
        "\n"
      ]
    },
    {
      "cell_type": "markdown",
      "metadata": {
        "id": "frtKUX634xIa"
      },
      "source": [
        "PyTorch is an open source machine learning library based on the Torch library, used for applications such as computer vision and natural language processing, primarily developed by Facebook's AI Research lab.\n",
        "\n",
        "First of all install those libraries which we use in next cells like Installing Pytorch for start working with pytorch and installing Numpy for performing numerical operations with data .So, Lets start "
      ]
    },
    {
      "cell_type": "code",
      "metadata": {
        "colab": {
          "base_uri": "https://localhost:8080/"
        },
        "id": "VPytB0p6kmJM",
        "outputId": "1e129f2a-91a5-4c91-afb6-c2691e5f9e11"
      },
      "source": [
        "!pip install numpy\n",
        "!pip install torch"
      ],
      "execution_count": 1,
      "outputs": [
        {
          "output_type": "stream",
          "text": [
            "Requirement already satisfied: numpy in /usr/local/lib/python3.6/dist-packages (1.18.5)\n",
            "Requirement already satisfied: torch in /usr/local/lib/python3.6/dist-packages (1.7.0+cu101)\n",
            "Requirement already satisfied: dataclasses in /usr/local/lib/python3.6/dist-packages (from torch) (0.8)\n",
            "Requirement already satisfied: numpy in /usr/local/lib/python3.6/dist-packages (from torch) (1.18.5)\n",
            "Requirement already satisfied: future in /usr/local/lib/python3.6/dist-packages (from torch) (0.16.0)\n",
            "Requirement already satisfied: typing-extensions in /usr/local/lib/python3.6/dist-packages (from torch) (3.7.4.3)\n"
          ],
          "name": "stdout"
        }
      ]
    },
    {
      "cell_type": "markdown",
      "metadata": {
        "id": "M3VxpyuX5QEe"
      },
      "source": [
        "After installation Let's import them in our file"
      ]
    },
    {
      "cell_type": "code",
      "metadata": {
        "id": "sH7TvAYVkyYw"
      },
      "source": [
        "import numpy as np \n",
        "import torch"
      ],
      "execution_count": 2,
      "outputs": []
    },
    {
      "cell_type": "code",
      "metadata": {
        "colab": {
          "base_uri": "https://localhost:8080/"
        },
        "id": "iuPhrhBgk-KP",
        "outputId": "9faa5f63-ea32-4814-a195-e53aaf66c9ee"
      },
      "source": [
        "#Number\n",
        "t1 = torch.tensor(4.)\n",
        "t1.shape"
      ],
      "execution_count": 4,
      "outputs": [
        {
          "output_type": "execute_result",
          "data": {
            "text/plain": [
              "torch.Size([])"
            ]
          },
          "metadata": {
            "tags": []
          },
          "execution_count": 4
        }
      ]
    },
    {
      "cell_type": "markdown",
      "metadata": {
        "id": "7X4CVhTA5Y3V"
      },
      "source": [
        "Torch is basically used for processing with data more easy through Torch we able to creat Numbers , Matrix ,  2D-Matrix or any N - Dimensional Matrix. Above i just creat a tensor of a simple number."
      ]
    },
    {
      "cell_type": "code",
      "metadata": {
        "colab": {
          "base_uri": "https://localhost:8080/"
        },
        "id": "5V307gutlE2Q",
        "outputId": "6e8a8c01-3639-46a9-d1dc-264b27efee30"
      },
      "source": [
        "t1"
      ],
      "execution_count": 5,
      "outputs": [
        {
          "output_type": "execute_result",
          "data": {
            "text/plain": [
              "tensor(4.)"
            ]
          },
          "metadata": {
            "tags": []
          },
          "execution_count": 5
        }
      ]
    },
    {
      "cell_type": "code",
      "metadata": {
        "id": "qyj2l3FrlKSH"
      },
      "source": [
        "#Matrix\n",
        "t2 = torch.tensor([1,2,3,4.])"
      ],
      "execution_count": 6,
      "outputs": []
    },
    {
      "cell_type": "markdown",
      "metadata": {
        "id": "qceA6Dtw5xrg"
      },
      "source": [
        "Now we can create a Matrix with tensor. As we all kow that we can create Matrix with Numpy also but it gives us many facilities which we can see next "
      ]
    },
    {
      "cell_type": "code",
      "metadata": {
        "colab": {
          "base_uri": "https://localhost:8080/"
        },
        "id": "br7XdkqKlQeP",
        "outputId": "da588fde-8c80-4a26-e7e9-9ce2577cd5d0"
      },
      "source": [
        "print(t2)\n",
        "t2.shape"
      ],
      "execution_count": 7,
      "outputs": [
        {
          "output_type": "stream",
          "text": [
            "tensor([1., 2., 3., 4.])\n"
          ],
          "name": "stdout"
        },
        {
          "output_type": "execute_result",
          "data": {
            "text/plain": [
              "torch.Size([4])"
            ]
          },
          "metadata": {
            "tags": []
          },
          "execution_count": 7
        }
      ]
    },
    {
      "cell_type": "code",
      "metadata": {
        "id": "xIxDws0DlUHk"
      },
      "source": [
        "# 2D - Matrix \n",
        "t3 = torch.tensor([\n",
        "                   [1,2,3],\n",
        "                   [4,6,7.]])"
      ],
      "execution_count": 8,
      "outputs": []
    },
    {
      "cell_type": "markdown",
      "metadata": {
        "id": "opaGnASm6Nif"
      },
      "source": [
        "Creating 2D - Matrix"
      ]
    },
    {
      "cell_type": "code",
      "metadata": {
        "colab": {
          "base_uri": "https://localhost:8080/"
        },
        "id": "4yytyHA6lrXS",
        "outputId": "be8f83e7-95e8-405d-b9db-2df6b770a7b8"
      },
      "source": [
        "print(t3)\n",
        "t3.shape"
      ],
      "execution_count": 9,
      "outputs": [
        {
          "output_type": "stream",
          "text": [
            "tensor([[1., 2., 3.],\n",
            "        [4., 6., 7.]])\n"
          ],
          "name": "stdout"
        },
        {
          "output_type": "execute_result",
          "data": {
            "text/plain": [
              "torch.Size([2, 3])"
            ]
          },
          "metadata": {
            "tags": []
          },
          "execution_count": 9
        }
      ]
    },
    {
      "cell_type": "code",
      "metadata": {
        "id": "tQWFwX-glt6C"
      },
      "source": [
        "t4 = torch.tensor([[[1,2,3],[5,2.,2] , [9,8,4]]])"
      ],
      "execution_count": 14,
      "outputs": []
    },
    {
      "cell_type": "code",
      "metadata": {
        "colab": {
          "base_uri": "https://localhost:8080/"
        },
        "id": "MX6uZMnPmUkH",
        "outputId": "c3f52463-a8ec-44ca-a7f4-b1362da41c6a"
      },
      "source": [
        "print(t4)\n",
        "t4.shape"
      ],
      "execution_count": 15,
      "outputs": [
        {
          "output_type": "stream",
          "text": [
            "tensor([[[1., 2., 3.],\n",
            "         [5., 2., 2.],\n",
            "         [9., 8., 4.]]])\n"
          ],
          "name": "stdout"
        },
        {
          "output_type": "execute_result",
          "data": {
            "text/plain": [
              "torch.Size([1, 3, 3])"
            ]
          },
          "metadata": {
            "tags": []
          },
          "execution_count": 15
        }
      ]
    },
    {
      "cell_type": "markdown",
      "metadata": {
        "id": "1dkTqA7l6R8U"
      },
      "source": [
        "We can create N- Dimensional Matrix with Torch "
      ]
    },
    {
      "cell_type": "markdown",
      "metadata": {
        "id": "bgd80yxMnW-w"
      },
      "source": [
        "****"
      ]
    },
    {
      "cell_type": "markdown",
      "metadata": {
        "id": "s0WKp50fnhqh"
      },
      "source": [
        "**Converting Python Numpy as Pytorch Tensors**"
      ]
    },
    {
      "cell_type": "code",
      "metadata": {
        "id": "nHEg5pN4ms6P"
      },
      "source": [
        "array = np.array([1,2,3,4,5,6])"
      ],
      "execution_count": 18,
      "outputs": []
    },
    {
      "cell_type": "markdown",
      "metadata": {
        "id": "6rgy-io76pl-"
      },
      "source": [
        "Creating a Numpy Array and convert it with Pytorch Tensor we see it next "
      ]
    },
    {
      "cell_type": "code",
      "metadata": {
        "colab": {
          "base_uri": "https://localhost:8080/"
        },
        "id": "EKBLiH9wnVHd",
        "outputId": "d915c1fb-ca37-483d-c542-c87a87664fac"
      },
      "source": [
        "array"
      ],
      "execution_count": 19,
      "outputs": [
        {
          "output_type": "execute_result",
          "data": {
            "text/plain": [
              "array([1, 2, 3, 4, 5, 6])"
            ]
          },
          "metadata": {
            "tags": []
          },
          "execution_count": 19
        }
      ]
    },
    {
      "cell_type": "code",
      "metadata": {
        "id": "wYnh1Uzwn868"
      },
      "source": [
        "y = torch.from_numpy(array)"
      ],
      "execution_count": 20,
      "outputs": []
    },
    {
      "cell_type": "markdown",
      "metadata": {
        "id": "igU3UpjN6zOw"
      },
      "source": [
        "We can convert numoy array with Pytorch tensor through method\n",
        "```\n",
        "# torch.from_numpy()\n",
        "```\n",
        "\n",
        "\n",
        "\n",
        "\n",
        "\n"
      ]
    },
    {
      "cell_type": "code",
      "metadata": {
        "colab": {
          "base_uri": "https://localhost:8080/"
        },
        "id": "o4HyTL1SoK5n",
        "outputId": "6339d629-ff30-4a2e-ab84-a031ba3aa114"
      },
      "source": [
        "y"
      ],
      "execution_count": 21,
      "outputs": [
        {
          "output_type": "execute_result",
          "data": {
            "text/plain": [
              "tensor([1, 2, 3, 4, 5, 6])"
            ]
          },
          "metadata": {
            "tags": []
          },
          "execution_count": 21
        }
      ]
    },
    {
      "cell_type": "code",
      "metadata": {
        "colab": {
          "base_uri": "https://localhost:8080/"
        },
        "id": "scuJQHbxoLTG",
        "outputId": "75d72a0b-4082-4462-8124-fe87d26ce629"
      },
      "source": [
        "# Converting again back to To the numpy from Tensors\n",
        "z = y.numpy()\n",
        "z"
      ],
      "execution_count": 24,
      "outputs": [
        {
          "output_type": "execute_result",
          "data": {
            "text/plain": [
              "array([1, 2, 3, 4, 5, 6])"
            ]
          },
          "metadata": {
            "tags": []
          },
          "execution_count": 24
        }
      ]
    },
    {
      "cell_type": "markdown",
      "metadata": {
        "id": "CmSVWscr7V_u"
      },
      "source": [
        "We can also convert a Tensor to a Numpy Array through `.numpy` function"
      ]
    },
    {
      "cell_type": "markdown",
      "metadata": {
        "id": "v4i-HFQyo21p"
      },
      "source": [
        "**Tensor Operations and its Functions**"
      ]
    },
    {
      "cell_type": "code",
      "metadata": {
        "id": "AF87t3KCo7gL"
      },
      "source": [
        "x = torch.tensor(4.)\n",
        "w = torch.tensor(5. ,requires_grad=True)\n",
        "b = torch.tensor(6. ,requires_grad=True)\n"
      ],
      "execution_count": 25,
      "outputs": []
    },
    {
      "cell_type": "markdown",
      "metadata": {
        "id": "QEiSne8L7pq_"
      },
      "source": [
        "Now we can create  three tensors like `x,w,b` and we set `requires_grad` True because it will be helpfull for taking derivatives of variables like at `x and b` `requires_grad` is True so that is why we can be able to take Derivatives of these two variables and we can not take deriative of x because we can not set `requires_grad` True . So, that's why we can't take derivative of `x`\n",
        "\n"
      ]
    },
    {
      "cell_type": "code",
      "metadata": {
        "colab": {
          "base_uri": "https://localhost:8080/"
        },
        "id": "MpWomzWexiby",
        "outputId": "24fbccb8-55a9-44fd-c485-e4168b89ce73"
      },
      "source": [
        "y = x * w + b\n",
        "y"
      ],
      "execution_count": 26,
      "outputs": [
        {
          "output_type": "execute_result",
          "data": {
            "text/plain": [
              "tensor(26., grad_fn=<AddBackward0>)"
            ]
          },
          "metadata": {
            "tags": []
          },
          "execution_count": 26
        }
      ]
    },
    {
      "cell_type": "markdown",
      "metadata": {
        "id": "cjspYCoD8njs"
      },
      "source": [
        "Torch is so easy to do any task like as we can do in simple programming like we can add or multiply variables with very easy statements "
      ]
    },
    {
      "cell_type": "code",
      "metadata": {
        "id": "8B8790Nj1wtc"
      },
      "source": [
        "y.backward()"
      ],
      "execution_count": 27,
      "outputs": []
    },
    {
      "cell_type": "markdown",
      "metadata": {
        "id": "7r9Q3EAr80iL"
      },
      "source": [
        "We use `y.backward` is because when we run this Torch is automatically solves derivatives of variables and than save it in `.grad` function.And we use that function below"
      ]
    },
    {
      "cell_type": "code",
      "metadata": {
        "colab": {
          "base_uri": "https://localhost:8080/"
        },
        "id": "Ud1i7ZGQ2fCz",
        "outputId": "b45febef-3d2d-4880-8de4-a64b9669fc29"
      },
      "source": [
        "print(\"dy/dx:\" , x.grad)\n",
        "print(\"dy/dw:\" , w.grad)\n",
        "print(\"dy/db:\" , b.grad)"
      ],
      "execution_count": 28,
      "outputs": [
        {
          "output_type": "stream",
          "text": [
            "dy/dx: None\n",
            "dy/dw: tensor(4.)\n",
            "dy/db: tensor(1.)\n"
          ],
          "name": "stdout"
        }
      ]
    },
    {
      "cell_type": "markdown",
      "metadata": {
        "id": "PHTvvylt25Gq"
      },
      "source": [
        "**Tesor Functions**"
      ]
    },
    {
      "cell_type": "code",
      "metadata": {
        "colab": {
          "base_uri": "https://localhost:8080/"
        },
        "id": "o6JOweDP2ziO",
        "outputId": "88c4c67d-a07e-400a-d9e3-a83ce2910df1"
      },
      "source": [
        "y = torch.full((3,3) , 53)\n",
        "y"
      ],
      "execution_count": 32,
      "outputs": [
        {
          "output_type": "execute_result",
          "data": {
            "text/plain": [
              "tensor([[53, 53, 53],\n",
              "        [53, 53, 53],\n",
              "        [53, 53, 53]])"
            ]
          },
          "metadata": {
            "tags": []
          },
          "execution_count": 32
        }
      ]
    },
    {
      "cell_type": "markdown",
      "metadata": {
        "id": "GgUQk4sI9ibr"
      },
      "source": [
        "In Pytorch there is also many functions as there is in Numpy we can create many simple things easily with them Like here we use `.full` function where we give him a tuple that there is a `3` rows and `3` columns and all the elements of the matrix is `53`"
      ]
    },
    {
      "cell_type": "code",
      "metadata": {
        "id": "Gy1uEYGP3fND"
      },
      "source": [
        "y2 = torch.full((3,3) , 42)"
      ],
      "execution_count": 34,
      "outputs": []
    },
    {
      "cell_type": "markdown",
      "metadata": {
        "id": "hUhKPI0q-LLR"
      },
      "source": [
        "\n",
        "Same here as we can do above "
      ]
    },
    {
      "cell_type": "code",
      "metadata": {
        "id": "qWA5dsHQ3GVt"
      },
      "source": [
        "concat = torch.cat((y , y2))"
      ],
      "execution_count": 35,
      "outputs": []
    },
    {
      "cell_type": "code",
      "metadata": {
        "colab": {
          "base_uri": "https://localhost:8080/"
        },
        "id": "FdQNBe9Y3ZeK",
        "outputId": "1f06ccab-771a-49f7-dc6d-64c618af848e"
      },
      "source": [
        "concat"
      ],
      "execution_count": 36,
      "outputs": [
        {
          "output_type": "execute_result",
          "data": {
            "text/plain": [
              "tensor([[53, 53, 53],\n",
              "        [53, 53, 53],\n",
              "        [53, 53, 53],\n",
              "        [42, 42, 42],\n",
              "        [42, 42, 42],\n",
              "        [42, 42, 42]])"
            ]
          },
          "metadata": {
            "tags": []
          },
          "execution_count": 36
        }
      ]
    },
    {
      "cell_type": "markdown",
      "metadata": {
        "id": "djsa8Un9-RBS"
      },
      "source": [
        "we can also concatenate two Matrices having same number of rows and columns .  "
      ]
    },
    {
      "cell_type": "code",
      "metadata": {
        "colab": {
          "base_uri": "https://localhost:8080/"
        },
        "id": "ZgAEjMAx3p7p",
        "outputId": "82d0157b-057a-47dd-889d-6cd50303532d"
      },
      "source": [
        "sin = torch.sin(t3)\n",
        "sin"
      ],
      "execution_count": 39,
      "outputs": [
        {
          "output_type": "execute_result",
          "data": {
            "text/plain": [
              "tensor([[ 0.8415,  0.9093,  0.1411],\n",
              "        [-0.7568, -0.2794,  0.6570]])"
            ]
          },
          "metadata": {
            "tags": []
          },
          "execution_count": 39
        }
      ]
    },
    {
      "cell_type": "markdown",
      "metadata": {
        "id": "vmjp8ZdT-hen"
      },
      "source": [
        "we can also use Trignometry Operation is easily exceept to implement that how to calculate them. So, thes things makes Pytorch very Efficient and easy to use "
      ]
    },
    {
      "cell_type": "code",
      "metadata": {
        "id": "TB5KwMZs3vCh"
      },
      "source": [
        "concat_reshape = concat.reshape(2,3,3)"
      ],
      "execution_count": 44,
      "outputs": []
    },
    {
      "cell_type": "code",
      "metadata": {
        "colab": {
          "base_uri": "https://localhost:8080/"
        },
        "id": "HrmGNjmr4GIG",
        "outputId": "920c6d6d-b9ff-49eb-d870-10f4e26b8ed4"
      },
      "source": [
        "concat_reshape"
      ],
      "execution_count": 45,
      "outputs": [
        {
          "output_type": "execute_result",
          "data": {
            "text/plain": [
              "tensor([[[53, 53, 53],\n",
              "         [53, 53, 53],\n",
              "         [53, 53, 53]],\n",
              "\n",
              "        [[42, 42, 42],\n",
              "         [42, 42, 42],\n",
              "         [42, 42, 42]]])"
            ]
          },
          "metadata": {
            "tags": []
          },
          "execution_count": 45
        }
      ]
    },
    {
      "cell_type": "markdown",
      "metadata": {
        "id": "aOIZq1d0-33U"
      },
      "source": [
        "We can also reshape our matrix in a given form"
      ]
    },
    {
      "cell_type": "code",
      "metadata": {
        "id": "Nezw9ThX4ak7"
      },
      "source": [
        ""
      ],
      "execution_count": null,
      "outputs": []
    }
  ]
}