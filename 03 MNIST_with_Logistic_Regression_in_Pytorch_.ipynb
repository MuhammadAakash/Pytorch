{
  "nbformat": 4,
  "nbformat_minor": 0,
  "metadata": {
    "colab": {
      "name": "MNIST with Logistic Regression in Pytorch .ipynb",
      "provenance": [],
      "collapsed_sections": []
    },
    "kernelspec": {
      "name": "python3",
      "display_name": "Python 3"
    },
    "widgets": {
      "application/vnd.jupyter.widget-state+json": {
        "3a1d57a8611d487e9af27b3ba2967363": {
          "model_module": "@jupyter-widgets/controls",
          "model_name": "HBoxModel",
          "state": {
            "_view_name": "HBoxView",
            "_dom_classes": [],
            "_model_name": "HBoxModel",
            "_view_module": "@jupyter-widgets/controls",
            "_model_module_version": "1.5.0",
            "_view_count": null,
            "_view_module_version": "1.5.0",
            "box_style": "",
            "layout": "IPY_MODEL_39db436d28b74f2d9e5561385f820fbc",
            "_model_module": "@jupyter-widgets/controls",
            "children": [
              "IPY_MODEL_fb20a8e081df4002b985de895e561994",
              "IPY_MODEL_7cf5b36b950d4e9e8ab43bc31ac960f5"
            ]
          }
        },
        "39db436d28b74f2d9e5561385f820fbc": {
          "model_module": "@jupyter-widgets/base",
          "model_name": "LayoutModel",
          "state": {
            "_view_name": "LayoutView",
            "grid_template_rows": null,
            "right": null,
            "justify_content": null,
            "_view_module": "@jupyter-widgets/base",
            "overflow": null,
            "_model_module_version": "1.2.0",
            "_view_count": null,
            "flex_flow": null,
            "width": null,
            "min_width": null,
            "border": null,
            "align_items": null,
            "bottom": null,
            "_model_module": "@jupyter-widgets/base",
            "top": null,
            "grid_column": null,
            "overflow_y": null,
            "overflow_x": null,
            "grid_auto_flow": null,
            "grid_area": null,
            "grid_template_columns": null,
            "flex": null,
            "_model_name": "LayoutModel",
            "justify_items": null,
            "grid_row": null,
            "max_height": null,
            "align_content": null,
            "visibility": null,
            "align_self": null,
            "height": null,
            "min_height": null,
            "padding": null,
            "grid_auto_rows": null,
            "grid_gap": null,
            "max_width": null,
            "order": null,
            "_view_module_version": "1.2.0",
            "grid_template_areas": null,
            "object_position": null,
            "object_fit": null,
            "grid_auto_columns": null,
            "margin": null,
            "display": null,
            "left": null
          }
        },
        "fb20a8e081df4002b985de895e561994": {
          "model_module": "@jupyter-widgets/controls",
          "model_name": "FloatProgressModel",
          "state": {
            "_view_name": "ProgressView",
            "style": "IPY_MODEL_112a182db4994103b9f5d40aab18c609",
            "_dom_classes": [],
            "description": "",
            "_model_name": "FloatProgressModel",
            "bar_style": "info",
            "max": 1,
            "_view_module": "@jupyter-widgets/controls",
            "_model_module_version": "1.5.0",
            "value": 1,
            "_view_count": null,
            "_view_module_version": "1.5.0",
            "orientation": "horizontal",
            "min": 0,
            "description_tooltip": null,
            "_model_module": "@jupyter-widgets/controls",
            "layout": "IPY_MODEL_a4984c8d6f5b4d109b5c280d06f9a10e"
          }
        },
        "7cf5b36b950d4e9e8ab43bc31ac960f5": {
          "model_module": "@jupyter-widgets/controls",
          "model_name": "HTMLModel",
          "state": {
            "_view_name": "HTMLView",
            "style": "IPY_MODEL_78e63ae2761f456081178b3b4b89e298",
            "_dom_classes": [],
            "description": "",
            "_model_name": "HTMLModel",
            "placeholder": "​",
            "_view_module": "@jupyter-widgets/controls",
            "_model_module_version": "1.5.0",
            "value": " 9920512/? [00:20&lt;00:00, 10545163.16it/s]",
            "_view_count": null,
            "_view_module_version": "1.5.0",
            "description_tooltip": null,
            "_model_module": "@jupyter-widgets/controls",
            "layout": "IPY_MODEL_e865695e9ebb49fbafbf899584c26afd"
          }
        },
        "112a182db4994103b9f5d40aab18c609": {
          "model_module": "@jupyter-widgets/controls",
          "model_name": "ProgressStyleModel",
          "state": {
            "_view_name": "StyleView",
            "_model_name": "ProgressStyleModel",
            "description_width": "initial",
            "_view_module": "@jupyter-widgets/base",
            "_model_module_version": "1.5.0",
            "_view_count": null,
            "_view_module_version": "1.2.0",
            "bar_color": null,
            "_model_module": "@jupyter-widgets/controls"
          }
        },
        "a4984c8d6f5b4d109b5c280d06f9a10e": {
          "model_module": "@jupyter-widgets/base",
          "model_name": "LayoutModel",
          "state": {
            "_view_name": "LayoutView",
            "grid_template_rows": null,
            "right": null,
            "justify_content": null,
            "_view_module": "@jupyter-widgets/base",
            "overflow": null,
            "_model_module_version": "1.2.0",
            "_view_count": null,
            "flex_flow": null,
            "width": null,
            "min_width": null,
            "border": null,
            "align_items": null,
            "bottom": null,
            "_model_module": "@jupyter-widgets/base",
            "top": null,
            "grid_column": null,
            "overflow_y": null,
            "overflow_x": null,
            "grid_auto_flow": null,
            "grid_area": null,
            "grid_template_columns": null,
            "flex": null,
            "_model_name": "LayoutModel",
            "justify_items": null,
            "grid_row": null,
            "max_height": null,
            "align_content": null,
            "visibility": null,
            "align_self": null,
            "height": null,
            "min_height": null,
            "padding": null,
            "grid_auto_rows": null,
            "grid_gap": null,
            "max_width": null,
            "order": null,
            "_view_module_version": "1.2.0",
            "grid_template_areas": null,
            "object_position": null,
            "object_fit": null,
            "grid_auto_columns": null,
            "margin": null,
            "display": null,
            "left": null
          }
        },
        "78e63ae2761f456081178b3b4b89e298": {
          "model_module": "@jupyter-widgets/controls",
          "model_name": "DescriptionStyleModel",
          "state": {
            "_view_name": "StyleView",
            "_model_name": "DescriptionStyleModel",
            "description_width": "",
            "_view_module": "@jupyter-widgets/base",
            "_model_module_version": "1.5.0",
            "_view_count": null,
            "_view_module_version": "1.2.0",
            "_model_module": "@jupyter-widgets/controls"
          }
        },
        "e865695e9ebb49fbafbf899584c26afd": {
          "model_module": "@jupyter-widgets/base",
          "model_name": "LayoutModel",
          "state": {
            "_view_name": "LayoutView",
            "grid_template_rows": null,
            "right": null,
            "justify_content": null,
            "_view_module": "@jupyter-widgets/base",
            "overflow": null,
            "_model_module_version": "1.2.0",
            "_view_count": null,
            "flex_flow": null,
            "width": null,
            "min_width": null,
            "border": null,
            "align_items": null,
            "bottom": null,
            "_model_module": "@jupyter-widgets/base",
            "top": null,
            "grid_column": null,
            "overflow_y": null,
            "overflow_x": null,
            "grid_auto_flow": null,
            "grid_area": null,
            "grid_template_columns": null,
            "flex": null,
            "_model_name": "LayoutModel",
            "justify_items": null,
            "grid_row": null,
            "max_height": null,
            "align_content": null,
            "visibility": null,
            "align_self": null,
            "height": null,
            "min_height": null,
            "padding": null,
            "grid_auto_rows": null,
            "grid_gap": null,
            "max_width": null,
            "order": null,
            "_view_module_version": "1.2.0",
            "grid_template_areas": null,
            "object_position": null,
            "object_fit": null,
            "grid_auto_columns": null,
            "margin": null,
            "display": null,
            "left": null
          }
        },
        "5ed49d679212463396735fba59762ab6": {
          "model_module": "@jupyter-widgets/controls",
          "model_name": "HBoxModel",
          "state": {
            "_view_name": "HBoxView",
            "_dom_classes": [],
            "_model_name": "HBoxModel",
            "_view_module": "@jupyter-widgets/controls",
            "_model_module_version": "1.5.0",
            "_view_count": null,
            "_view_module_version": "1.5.0",
            "box_style": "",
            "layout": "IPY_MODEL_34935aef165d433abfa5a4a8ab205b4d",
            "_model_module": "@jupyter-widgets/controls",
            "children": [
              "IPY_MODEL_f67f13676be64e2da9f4df43157162cf",
              "IPY_MODEL_e9bc6bb0e62140fb9cab6cbd1c56d464"
            ]
          }
        },
        "34935aef165d433abfa5a4a8ab205b4d": {
          "model_module": "@jupyter-widgets/base",
          "model_name": "LayoutModel",
          "state": {
            "_view_name": "LayoutView",
            "grid_template_rows": null,
            "right": null,
            "justify_content": null,
            "_view_module": "@jupyter-widgets/base",
            "overflow": null,
            "_model_module_version": "1.2.0",
            "_view_count": null,
            "flex_flow": null,
            "width": null,
            "min_width": null,
            "border": null,
            "align_items": null,
            "bottom": null,
            "_model_module": "@jupyter-widgets/base",
            "top": null,
            "grid_column": null,
            "overflow_y": null,
            "overflow_x": null,
            "grid_auto_flow": null,
            "grid_area": null,
            "grid_template_columns": null,
            "flex": null,
            "_model_name": "LayoutModel",
            "justify_items": null,
            "grid_row": null,
            "max_height": null,
            "align_content": null,
            "visibility": null,
            "align_self": null,
            "height": null,
            "min_height": null,
            "padding": null,
            "grid_auto_rows": null,
            "grid_gap": null,
            "max_width": null,
            "order": null,
            "_view_module_version": "1.2.0",
            "grid_template_areas": null,
            "object_position": null,
            "object_fit": null,
            "grid_auto_columns": null,
            "margin": null,
            "display": null,
            "left": null
          }
        },
        "f67f13676be64e2da9f4df43157162cf": {
          "model_module": "@jupyter-widgets/controls",
          "model_name": "FloatProgressModel",
          "state": {
            "_view_name": "ProgressView",
            "style": "IPY_MODEL_8af0afe1bfa9454fbd43cc32767ce7f6",
            "_dom_classes": [],
            "description": "  0%",
            "_model_name": "FloatProgressModel",
            "bar_style": "info",
            "max": 1,
            "_view_module": "@jupyter-widgets/controls",
            "_model_module_version": "1.5.0",
            "value": 0,
            "_view_count": null,
            "_view_module_version": "1.5.0",
            "orientation": "horizontal",
            "min": 0,
            "description_tooltip": null,
            "_model_module": "@jupyter-widgets/controls",
            "layout": "IPY_MODEL_fda631edad794d05b8551999219d6f8d"
          }
        },
        "e9bc6bb0e62140fb9cab6cbd1c56d464": {
          "model_module": "@jupyter-widgets/controls",
          "model_name": "HTMLModel",
          "state": {
            "_view_name": "HTMLView",
            "style": "IPY_MODEL_b851957089ca48baaca79ebaba604f3f",
            "_dom_classes": [],
            "description": "",
            "_model_name": "HTMLModel",
            "placeholder": "​",
            "_view_module": "@jupyter-widgets/controls",
            "_model_module_version": "1.5.0",
            "value": " 0/28881 [00:00&lt;?, ?it/s]",
            "_view_count": null,
            "_view_module_version": "1.5.0",
            "description_tooltip": null,
            "_model_module": "@jupyter-widgets/controls",
            "layout": "IPY_MODEL_45eb96608349471d9b34ee96a8b7d4bf"
          }
        },
        "8af0afe1bfa9454fbd43cc32767ce7f6": {
          "model_module": "@jupyter-widgets/controls",
          "model_name": "ProgressStyleModel",
          "state": {
            "_view_name": "StyleView",
            "_model_name": "ProgressStyleModel",
            "description_width": "initial",
            "_view_module": "@jupyter-widgets/base",
            "_model_module_version": "1.5.0",
            "_view_count": null,
            "_view_module_version": "1.2.0",
            "bar_color": null,
            "_model_module": "@jupyter-widgets/controls"
          }
        },
        "fda631edad794d05b8551999219d6f8d": {
          "model_module": "@jupyter-widgets/base",
          "model_name": "LayoutModel",
          "state": {
            "_view_name": "LayoutView",
            "grid_template_rows": null,
            "right": null,
            "justify_content": null,
            "_view_module": "@jupyter-widgets/base",
            "overflow": null,
            "_model_module_version": "1.2.0",
            "_view_count": null,
            "flex_flow": null,
            "width": null,
            "min_width": null,
            "border": null,
            "align_items": null,
            "bottom": null,
            "_model_module": "@jupyter-widgets/base",
            "top": null,
            "grid_column": null,
            "overflow_y": null,
            "overflow_x": null,
            "grid_auto_flow": null,
            "grid_area": null,
            "grid_template_columns": null,
            "flex": null,
            "_model_name": "LayoutModel",
            "justify_items": null,
            "grid_row": null,
            "max_height": null,
            "align_content": null,
            "visibility": null,
            "align_self": null,
            "height": null,
            "min_height": null,
            "padding": null,
            "grid_auto_rows": null,
            "grid_gap": null,
            "max_width": null,
            "order": null,
            "_view_module_version": "1.2.0",
            "grid_template_areas": null,
            "object_position": null,
            "object_fit": null,
            "grid_auto_columns": null,
            "margin": null,
            "display": null,
            "left": null
          }
        },
        "b851957089ca48baaca79ebaba604f3f": {
          "model_module": "@jupyter-widgets/controls",
          "model_name": "DescriptionStyleModel",
          "state": {
            "_view_name": "StyleView",
            "_model_name": "DescriptionStyleModel",
            "description_width": "",
            "_view_module": "@jupyter-widgets/base",
            "_model_module_version": "1.5.0",
            "_view_count": null,
            "_view_module_version": "1.2.0",
            "_model_module": "@jupyter-widgets/controls"
          }
        },
        "45eb96608349471d9b34ee96a8b7d4bf": {
          "model_module": "@jupyter-widgets/base",
          "model_name": "LayoutModel",
          "state": {
            "_view_name": "LayoutView",
            "grid_template_rows": null,
            "right": null,
            "justify_content": null,
            "_view_module": "@jupyter-widgets/base",
            "overflow": null,
            "_model_module_version": "1.2.0",
            "_view_count": null,
            "flex_flow": null,
            "width": null,
            "min_width": null,
            "border": null,
            "align_items": null,
            "bottom": null,
            "_model_module": "@jupyter-widgets/base",
            "top": null,
            "grid_column": null,
            "overflow_y": null,
            "overflow_x": null,
            "grid_auto_flow": null,
            "grid_area": null,
            "grid_template_columns": null,
            "flex": null,
            "_model_name": "LayoutModel",
            "justify_items": null,
            "grid_row": null,
            "max_height": null,
            "align_content": null,
            "visibility": null,
            "align_self": null,
            "height": null,
            "min_height": null,
            "padding": null,
            "grid_auto_rows": null,
            "grid_gap": null,
            "max_width": null,
            "order": null,
            "_view_module_version": "1.2.0",
            "grid_template_areas": null,
            "object_position": null,
            "object_fit": null,
            "grid_auto_columns": null,
            "margin": null,
            "display": null,
            "left": null
          }
        },
        "e5296d3e37a544be9376789580d0de9f": {
          "model_module": "@jupyter-widgets/controls",
          "model_name": "HBoxModel",
          "state": {
            "_view_name": "HBoxView",
            "_dom_classes": [],
            "_model_name": "HBoxModel",
            "_view_module": "@jupyter-widgets/controls",
            "_model_module_version": "1.5.0",
            "_view_count": null,
            "_view_module_version": "1.5.0",
            "box_style": "",
            "layout": "IPY_MODEL_3923de7295d3449ebf81e8b84114561d",
            "_model_module": "@jupyter-widgets/controls",
            "children": [
              "IPY_MODEL_85aae7d51be04ec9bc3116609833a070",
              "IPY_MODEL_ad47be7dd0ed48779f76fa621ce8d9fa"
            ]
          }
        },
        "3923de7295d3449ebf81e8b84114561d": {
          "model_module": "@jupyter-widgets/base",
          "model_name": "LayoutModel",
          "state": {
            "_view_name": "LayoutView",
            "grid_template_rows": null,
            "right": null,
            "justify_content": null,
            "_view_module": "@jupyter-widgets/base",
            "overflow": null,
            "_model_module_version": "1.2.0",
            "_view_count": null,
            "flex_flow": null,
            "width": null,
            "min_width": null,
            "border": null,
            "align_items": null,
            "bottom": null,
            "_model_module": "@jupyter-widgets/base",
            "top": null,
            "grid_column": null,
            "overflow_y": null,
            "overflow_x": null,
            "grid_auto_flow": null,
            "grid_area": null,
            "grid_template_columns": null,
            "flex": null,
            "_model_name": "LayoutModel",
            "justify_items": null,
            "grid_row": null,
            "max_height": null,
            "align_content": null,
            "visibility": null,
            "align_self": null,
            "height": null,
            "min_height": null,
            "padding": null,
            "grid_auto_rows": null,
            "grid_gap": null,
            "max_width": null,
            "order": null,
            "_view_module_version": "1.2.0",
            "grid_template_areas": null,
            "object_position": null,
            "object_fit": null,
            "grid_auto_columns": null,
            "margin": null,
            "display": null,
            "left": null
          }
        },
        "85aae7d51be04ec9bc3116609833a070": {
          "model_module": "@jupyter-widgets/controls",
          "model_name": "FloatProgressModel",
          "state": {
            "_view_name": "ProgressView",
            "style": "IPY_MODEL_8a1c0b1bebca4577b439a2cf5100564c",
            "_dom_classes": [],
            "description": "",
            "_model_name": "FloatProgressModel",
            "bar_style": "info",
            "max": 1,
            "_view_module": "@jupyter-widgets/controls",
            "_model_module_version": "1.5.0",
            "value": 1,
            "_view_count": null,
            "_view_module_version": "1.5.0",
            "orientation": "horizontal",
            "min": 0,
            "description_tooltip": null,
            "_model_module": "@jupyter-widgets/controls",
            "layout": "IPY_MODEL_7e89741b294a409aa741b34c90bc9b11"
          }
        },
        "ad47be7dd0ed48779f76fa621ce8d9fa": {
          "model_module": "@jupyter-widgets/controls",
          "model_name": "HTMLModel",
          "state": {
            "_view_name": "HTMLView",
            "style": "IPY_MODEL_2a3c990bf0bd4cb78ebe0bf4eb34ca72",
            "_dom_classes": [],
            "description": "",
            "_model_name": "HTMLModel",
            "placeholder": "​",
            "_view_module": "@jupyter-widgets/controls",
            "_model_module_version": "1.5.0",
            "value": " 1654784/? [00:18&lt;00:00, 9155098.44it/s]",
            "_view_count": null,
            "_view_module_version": "1.5.0",
            "description_tooltip": null,
            "_model_module": "@jupyter-widgets/controls",
            "layout": "IPY_MODEL_9e311ba4c2a34187ab4ef763a4d869c3"
          }
        },
        "8a1c0b1bebca4577b439a2cf5100564c": {
          "model_module": "@jupyter-widgets/controls",
          "model_name": "ProgressStyleModel",
          "state": {
            "_view_name": "StyleView",
            "_model_name": "ProgressStyleModel",
            "description_width": "initial",
            "_view_module": "@jupyter-widgets/base",
            "_model_module_version": "1.5.0",
            "_view_count": null,
            "_view_module_version": "1.2.0",
            "bar_color": null,
            "_model_module": "@jupyter-widgets/controls"
          }
        },
        "7e89741b294a409aa741b34c90bc9b11": {
          "model_module": "@jupyter-widgets/base",
          "model_name": "LayoutModel",
          "state": {
            "_view_name": "LayoutView",
            "grid_template_rows": null,
            "right": null,
            "justify_content": null,
            "_view_module": "@jupyter-widgets/base",
            "overflow": null,
            "_model_module_version": "1.2.0",
            "_view_count": null,
            "flex_flow": null,
            "width": null,
            "min_width": null,
            "border": null,
            "align_items": null,
            "bottom": null,
            "_model_module": "@jupyter-widgets/base",
            "top": null,
            "grid_column": null,
            "overflow_y": null,
            "overflow_x": null,
            "grid_auto_flow": null,
            "grid_area": null,
            "grid_template_columns": null,
            "flex": null,
            "_model_name": "LayoutModel",
            "justify_items": null,
            "grid_row": null,
            "max_height": null,
            "align_content": null,
            "visibility": null,
            "align_self": null,
            "height": null,
            "min_height": null,
            "padding": null,
            "grid_auto_rows": null,
            "grid_gap": null,
            "max_width": null,
            "order": null,
            "_view_module_version": "1.2.0",
            "grid_template_areas": null,
            "object_position": null,
            "object_fit": null,
            "grid_auto_columns": null,
            "margin": null,
            "display": null,
            "left": null
          }
        },
        "2a3c990bf0bd4cb78ebe0bf4eb34ca72": {
          "model_module": "@jupyter-widgets/controls",
          "model_name": "DescriptionStyleModel",
          "state": {
            "_view_name": "StyleView",
            "_model_name": "DescriptionStyleModel",
            "description_width": "",
            "_view_module": "@jupyter-widgets/base",
            "_model_module_version": "1.5.0",
            "_view_count": null,
            "_view_module_version": "1.2.0",
            "_model_module": "@jupyter-widgets/controls"
          }
        },
        "9e311ba4c2a34187ab4ef763a4d869c3": {
          "model_module": "@jupyter-widgets/base",
          "model_name": "LayoutModel",
          "state": {
            "_view_name": "LayoutView",
            "grid_template_rows": null,
            "right": null,
            "justify_content": null,
            "_view_module": "@jupyter-widgets/base",
            "overflow": null,
            "_model_module_version": "1.2.0",
            "_view_count": null,
            "flex_flow": null,
            "width": null,
            "min_width": null,
            "border": null,
            "align_items": null,
            "bottom": null,
            "_model_module": "@jupyter-widgets/base",
            "top": null,
            "grid_column": null,
            "overflow_y": null,
            "overflow_x": null,
            "grid_auto_flow": null,
            "grid_area": null,
            "grid_template_columns": null,
            "flex": null,
            "_model_name": "LayoutModel",
            "justify_items": null,
            "grid_row": null,
            "max_height": null,
            "align_content": null,
            "visibility": null,
            "align_self": null,
            "height": null,
            "min_height": null,
            "padding": null,
            "grid_auto_rows": null,
            "grid_gap": null,
            "max_width": null,
            "order": null,
            "_view_module_version": "1.2.0",
            "grid_template_areas": null,
            "object_position": null,
            "object_fit": null,
            "grid_auto_columns": null,
            "margin": null,
            "display": null,
            "left": null
          }
        },
        "f2e3c3b3c6ac4dd58e54b7f212905e65": {
          "model_module": "@jupyter-widgets/controls",
          "model_name": "HBoxModel",
          "state": {
            "_view_name": "HBoxView",
            "_dom_classes": [],
            "_model_name": "HBoxModel",
            "_view_module": "@jupyter-widgets/controls",
            "_model_module_version": "1.5.0",
            "_view_count": null,
            "_view_module_version": "1.5.0",
            "box_style": "",
            "layout": "IPY_MODEL_dc845e0afde247b2bb71e971f3145615",
            "_model_module": "@jupyter-widgets/controls",
            "children": [
              "IPY_MODEL_ae09de8d2de54930a009d9878529e781",
              "IPY_MODEL_b1a92e93f5bc46aa8bc4cd3348ff1d29"
            ]
          }
        },
        "dc845e0afde247b2bb71e971f3145615": {
          "model_module": "@jupyter-widgets/base",
          "model_name": "LayoutModel",
          "state": {
            "_view_name": "LayoutView",
            "grid_template_rows": null,
            "right": null,
            "justify_content": null,
            "_view_module": "@jupyter-widgets/base",
            "overflow": null,
            "_model_module_version": "1.2.0",
            "_view_count": null,
            "flex_flow": null,
            "width": null,
            "min_width": null,
            "border": null,
            "align_items": null,
            "bottom": null,
            "_model_module": "@jupyter-widgets/base",
            "top": null,
            "grid_column": null,
            "overflow_y": null,
            "overflow_x": null,
            "grid_auto_flow": null,
            "grid_area": null,
            "grid_template_columns": null,
            "flex": null,
            "_model_name": "LayoutModel",
            "justify_items": null,
            "grid_row": null,
            "max_height": null,
            "align_content": null,
            "visibility": null,
            "align_self": null,
            "height": null,
            "min_height": null,
            "padding": null,
            "grid_auto_rows": null,
            "grid_gap": null,
            "max_width": null,
            "order": null,
            "_view_module_version": "1.2.0",
            "grid_template_areas": null,
            "object_position": null,
            "object_fit": null,
            "grid_auto_columns": null,
            "margin": null,
            "display": null,
            "left": null
          }
        },
        "ae09de8d2de54930a009d9878529e781": {
          "model_module": "@jupyter-widgets/controls",
          "model_name": "FloatProgressModel",
          "state": {
            "_view_name": "ProgressView",
            "style": "IPY_MODEL_594e20840d7d47ccade0c0057d0ff16a",
            "_dom_classes": [],
            "description": "",
            "_model_name": "FloatProgressModel",
            "bar_style": "info",
            "max": 1,
            "_view_module": "@jupyter-widgets/controls",
            "_model_module_version": "1.5.0",
            "value": 0,
            "_view_count": null,
            "_view_module_version": "1.5.0",
            "orientation": "horizontal",
            "min": 0,
            "description_tooltip": null,
            "_model_module": "@jupyter-widgets/controls",
            "layout": "IPY_MODEL_a2ba4bad32794407b8a88661f488073d"
          }
        },
        "b1a92e93f5bc46aa8bc4cd3348ff1d29": {
          "model_module": "@jupyter-widgets/controls",
          "model_name": "HTMLModel",
          "state": {
            "_view_name": "HTMLView",
            "style": "IPY_MODEL_c6955e3eb8dd4b81ae0b4f6b06dfb17b",
            "_dom_classes": [],
            "description": "",
            "_model_name": "HTMLModel",
            "placeholder": "​",
            "_view_module": "@jupyter-widgets/controls",
            "_model_module_version": "1.5.0",
            "value": " 0/? [00:00&lt;?, ?it/s]",
            "_view_count": null,
            "_view_module_version": "1.5.0",
            "description_tooltip": null,
            "_model_module": "@jupyter-widgets/controls",
            "layout": "IPY_MODEL_1c80c43a136b412bb973ef3ddf075b7c"
          }
        },
        "594e20840d7d47ccade0c0057d0ff16a": {
          "model_module": "@jupyter-widgets/controls",
          "model_name": "ProgressStyleModel",
          "state": {
            "_view_name": "StyleView",
            "_model_name": "ProgressStyleModel",
            "description_width": "initial",
            "_view_module": "@jupyter-widgets/base",
            "_model_module_version": "1.5.0",
            "_view_count": null,
            "_view_module_version": "1.2.0",
            "bar_color": null,
            "_model_module": "@jupyter-widgets/controls"
          }
        },
        "a2ba4bad32794407b8a88661f488073d": {
          "model_module": "@jupyter-widgets/base",
          "model_name": "LayoutModel",
          "state": {
            "_view_name": "LayoutView",
            "grid_template_rows": null,
            "right": null,
            "justify_content": null,
            "_view_module": "@jupyter-widgets/base",
            "overflow": null,
            "_model_module_version": "1.2.0",
            "_view_count": null,
            "flex_flow": null,
            "width": null,
            "min_width": null,
            "border": null,
            "align_items": null,
            "bottom": null,
            "_model_module": "@jupyter-widgets/base",
            "top": null,
            "grid_column": null,
            "overflow_y": null,
            "overflow_x": null,
            "grid_auto_flow": null,
            "grid_area": null,
            "grid_template_columns": null,
            "flex": null,
            "_model_name": "LayoutModel",
            "justify_items": null,
            "grid_row": null,
            "max_height": null,
            "align_content": null,
            "visibility": null,
            "align_self": null,
            "height": null,
            "min_height": null,
            "padding": null,
            "grid_auto_rows": null,
            "grid_gap": null,
            "max_width": null,
            "order": null,
            "_view_module_version": "1.2.0",
            "grid_template_areas": null,
            "object_position": null,
            "object_fit": null,
            "grid_auto_columns": null,
            "margin": null,
            "display": null,
            "left": null
          }
        },
        "c6955e3eb8dd4b81ae0b4f6b06dfb17b": {
          "model_module": "@jupyter-widgets/controls",
          "model_name": "DescriptionStyleModel",
          "state": {
            "_view_name": "StyleView",
            "_model_name": "DescriptionStyleModel",
            "description_width": "",
            "_view_module": "@jupyter-widgets/base",
            "_model_module_version": "1.5.0",
            "_view_count": null,
            "_view_module_version": "1.2.0",
            "_model_module": "@jupyter-widgets/controls"
          }
        },
        "1c80c43a136b412bb973ef3ddf075b7c": {
          "model_module": "@jupyter-widgets/base",
          "model_name": "LayoutModel",
          "state": {
            "_view_name": "LayoutView",
            "grid_template_rows": null,
            "right": null,
            "justify_content": null,
            "_view_module": "@jupyter-widgets/base",
            "overflow": null,
            "_model_module_version": "1.2.0",
            "_view_count": null,
            "flex_flow": null,
            "width": null,
            "min_width": null,
            "border": null,
            "align_items": null,
            "bottom": null,
            "_model_module": "@jupyter-widgets/base",
            "top": null,
            "grid_column": null,
            "overflow_y": null,
            "overflow_x": null,
            "grid_auto_flow": null,
            "grid_area": null,
            "grid_template_columns": null,
            "flex": null,
            "_model_name": "LayoutModel",
            "justify_items": null,
            "grid_row": null,
            "max_height": null,
            "align_content": null,
            "visibility": null,
            "align_self": null,
            "height": null,
            "min_height": null,
            "padding": null,
            "grid_auto_rows": null,
            "grid_gap": null,
            "max_width": null,
            "order": null,
            "_view_module_version": "1.2.0",
            "grid_template_areas": null,
            "object_position": null,
            "object_fit": null,
            "grid_auto_columns": null,
            "margin": null,
            "display": null,
            "left": null
          }
        }
      }
    }
  },
  "cells": [
    {
      "cell_type": "code",
      "metadata": {
        "id": "7NKAcrDCcqTR"
      },
      "source": [
        "import torch \r\n",
        "import torchvision\r\n",
        "from torchvision.datasets import MNIST"
      ],
      "execution_count": 1,
      "outputs": []
    },
    {
      "cell_type": "code",
      "metadata": {
        "colab": {
          "base_uri": "https://localhost:8080/",
          "height": 369,
          "referenced_widgets": [
            "3a1d57a8611d487e9af27b3ba2967363",
            "39db436d28b74f2d9e5561385f820fbc",
            "fb20a8e081df4002b985de895e561994",
            "7cf5b36b950d4e9e8ab43bc31ac960f5",
            "112a182db4994103b9f5d40aab18c609",
            "a4984c8d6f5b4d109b5c280d06f9a10e",
            "78e63ae2761f456081178b3b4b89e298",
            "e865695e9ebb49fbafbf899584c26afd",
            "5ed49d679212463396735fba59762ab6",
            "34935aef165d433abfa5a4a8ab205b4d",
            "f67f13676be64e2da9f4df43157162cf",
            "e9bc6bb0e62140fb9cab6cbd1c56d464",
            "8af0afe1bfa9454fbd43cc32767ce7f6",
            "fda631edad794d05b8551999219d6f8d",
            "b851957089ca48baaca79ebaba604f3f",
            "45eb96608349471d9b34ee96a8b7d4bf",
            "e5296d3e37a544be9376789580d0de9f",
            "3923de7295d3449ebf81e8b84114561d",
            "85aae7d51be04ec9bc3116609833a070",
            "ad47be7dd0ed48779f76fa621ce8d9fa",
            "8a1c0b1bebca4577b439a2cf5100564c",
            "7e89741b294a409aa741b34c90bc9b11",
            "2a3c990bf0bd4cb78ebe0bf4eb34ca72",
            "9e311ba4c2a34187ab4ef763a4d869c3",
            "f2e3c3b3c6ac4dd58e54b7f212905e65",
            "dc845e0afde247b2bb71e971f3145615",
            "ae09de8d2de54930a009d9878529e781",
            "b1a92e93f5bc46aa8bc4cd3348ff1d29",
            "594e20840d7d47ccade0c0057d0ff16a",
            "a2ba4bad32794407b8a88661f488073d",
            "c6955e3eb8dd4b81ae0b4f6b06dfb17b",
            "1c80c43a136b412bb973ef3ddf075b7c"
          ]
        },
        "id": "vGLEoiUfemIe",
        "outputId": "1a0c302a-71d8-4f9a-d2df-bacfb39f24c6"
      },
      "source": [
        "dataset = MNIST(root=\"/content/drive/MyDrive/Datasets\", download=True)"
      ],
      "execution_count": 2,
      "outputs": [
        {
          "output_type": "stream",
          "text": [
            "Downloading http://yann.lecun.com/exdb/mnist/train-images-idx3-ubyte.gz to /content/drive/MyDrive/Datasets/MNIST/raw/train-images-idx3-ubyte.gz\n"
          ],
          "name": "stdout"
        },
        {
          "output_type": "display_data",
          "data": {
            "application/vnd.jupyter.widget-view+json": {
              "model_id": "3a1d57a8611d487e9af27b3ba2967363",
              "version_minor": 0,
              "version_major": 2
            },
            "text/plain": [
              "HBox(children=(FloatProgress(value=1.0, bar_style='info', max=1.0), HTML(value='')))"
            ]
          },
          "metadata": {
            "tags": []
          }
        },
        {
          "output_type": "stream",
          "text": [
            "Extracting /content/drive/MyDrive/Datasets/MNIST/raw/train-images-idx3-ubyte.gz to /content/drive/MyDrive/Datasets/MNIST/raw\n",
            "Downloading http://yann.lecun.com/exdb/mnist/train-labels-idx1-ubyte.gz to /content/drive/MyDrive/Datasets/MNIST/raw/train-labels-idx1-ubyte.gz\n"
          ],
          "name": "stdout"
        },
        {
          "output_type": "display_data",
          "data": {
            "application/vnd.jupyter.widget-view+json": {
              "model_id": "5ed49d679212463396735fba59762ab6",
              "version_minor": 0,
              "version_major": 2
            },
            "text/plain": [
              "HBox(children=(FloatProgress(value=1.0, bar_style='info', max=1.0), HTML(value='')))"
            ]
          },
          "metadata": {
            "tags": []
          }
        },
        {
          "output_type": "stream",
          "text": [
            "Extracting /content/drive/MyDrive/Datasets/MNIST/raw/train-labels-idx1-ubyte.gz to /content/drive/MyDrive/Datasets/MNIST/raw\n",
            "Downloading http://yann.lecun.com/exdb/mnist/t10k-images-idx3-ubyte.gz to /content/drive/MyDrive/Datasets/MNIST/raw/t10k-images-idx3-ubyte.gz\n"
          ],
          "name": "stdout"
        },
        {
          "output_type": "display_data",
          "data": {
            "application/vnd.jupyter.widget-view+json": {
              "model_id": "e5296d3e37a544be9376789580d0de9f",
              "version_minor": 0,
              "version_major": 2
            },
            "text/plain": [
              "HBox(children=(FloatProgress(value=1.0, bar_style='info', max=1.0), HTML(value='')))"
            ]
          },
          "metadata": {
            "tags": []
          }
        },
        {
          "output_type": "stream",
          "text": [
            "Extracting /content/drive/MyDrive/Datasets/MNIST/raw/t10k-images-idx3-ubyte.gz to /content/drive/MyDrive/Datasets/MNIST/raw\n",
            "Downloading http://yann.lecun.com/exdb/mnist/t10k-labels-idx1-ubyte.gz to /content/drive/MyDrive/Datasets/MNIST/raw/t10k-labels-idx1-ubyte.gz\n"
          ],
          "name": "stdout"
        },
        {
          "output_type": "display_data",
          "data": {
            "application/vnd.jupyter.widget-view+json": {
              "model_id": "f2e3c3b3c6ac4dd58e54b7f212905e65",
              "version_minor": 0,
              "version_major": 2
            },
            "text/plain": [
              "HBox(children=(FloatProgress(value=1.0, bar_style='info', max=1.0), HTML(value='')))"
            ]
          },
          "metadata": {
            "tags": []
          }
        },
        {
          "output_type": "stream",
          "text": [
            "Extracting /content/drive/MyDrive/Datasets/MNIST/raw/t10k-labels-idx1-ubyte.gz to /content/drive/MyDrive/Datasets/MNIST/raw\n",
            "Processing...\n"
          ],
          "name": "stdout"
        },
        {
          "output_type": "stream",
          "text": [
            "/usr/local/lib/python3.6/dist-packages/torchvision/datasets/mnist.py:480: UserWarning: The given NumPy array is not writeable, and PyTorch does not support non-writeable tensors. This means you can write to the underlying (supposedly non-writeable) NumPy array using the tensor. You may want to copy the array to protect its data or make it writeable before converting it to a tensor. This type of warning will be suppressed for the rest of this program. (Triggered internally at  /pytorch/torch/csrc/utils/tensor_numpy.cpp:141.)\n",
            "  return torch.from_numpy(parsed.astype(m[2], copy=False)).view(*s)\n"
          ],
          "name": "stderr"
        },
        {
          "output_type": "stream",
          "text": [
            "Done!\n"
          ],
          "name": "stdout"
        }
      ]
    },
    {
      "cell_type": "code",
      "metadata": {
        "colab": {
          "base_uri": "https://localhost:8080/"
        },
        "id": "JHM0hHWKffIj",
        "outputId": "6cafd7df-c7e8-4426-9a21-1f235b9811c0"
      },
      "source": [
        "len(dataset)"
      ],
      "execution_count": 3,
      "outputs": [
        {
          "output_type": "execute_result",
          "data": {
            "text/plain": [
              "60000"
            ]
          },
          "metadata": {
            "tags": []
          },
          "execution_count": 3
        }
      ]
    },
    {
      "cell_type": "code",
      "metadata": {
        "colab": {
          "base_uri": "https://localhost:8080/"
        },
        "id": "7RniEzxUfoDQ",
        "outputId": "8d138f8c-8367-4cad-f630-d33277be53cb"
      },
      "source": [
        "test_dataset = MNIST(root = \"/content/drive/MyDrive/Datasets\", train = False)\r\n",
        "len(test_dataset)"
      ],
      "execution_count": 4,
      "outputs": [
        {
          "output_type": "execute_result",
          "data": {
            "text/plain": [
              "10000"
            ]
          },
          "metadata": {
            "tags": []
          },
          "execution_count": 4
        }
      ]
    },
    {
      "cell_type": "code",
      "metadata": {
        "colab": {
          "base_uri": "https://localhost:8080/"
        },
        "id": "20Lqi5KFfzdK",
        "outputId": "ab485579-4ac8-466d-ded7-639bc9d0c513"
      },
      "source": [
        "dataset[0]"
      ],
      "execution_count": 5,
      "outputs": [
        {
          "output_type": "execute_result",
          "data": {
            "text/plain": [
              "(<PIL.Image.Image image mode=L size=28x28 at 0x7FE4398FD2E8>, 5)"
            ]
          },
          "metadata": {
            "tags": []
          },
          "execution_count": 5
        }
      ]
    },
    {
      "cell_type": "code",
      "metadata": {
        "id": "kG5bzF-Of26I"
      },
      "source": [
        "import matplotlib.pyplot as plt\r\n",
        "%matplotlib inline\r\n"
      ],
      "execution_count": 6,
      "outputs": []
    },
    {
      "cell_type": "code",
      "metadata": {
        "colab": {
          "base_uri": "https://localhost:8080/",
          "height": 282
        },
        "id": "HH2VJQJ1gA0w",
        "outputId": "a16cb65e-e9e2-472c-90b7-576f9c55cbbf"
      },
      "source": [
        "image , label = dataset[0]\r\n",
        "plt.imshow(image , cmap='gray')\r\n",
        "print(\"Label:\",label)"
      ],
      "execution_count": 7,
      "outputs": [
        {
          "output_type": "stream",
          "text": [
            "Label: 5\n"
          ],
          "name": "stdout"
        },
        {
          "output_type": "display_data",
          "data": {
            "image/png": "[encoded data removed]",
            "text/plain": [
              "<Figure size 432x288 with 1 Axes>"
            ]
          },
          "metadata": {
            "tags": [],
            "needs_background": "light"
          }
        }
      ]
    },
    {
      "cell_type": "code",
      "metadata": {
        "colab": {
          "base_uri": "https://localhost:8080/",
          "height": 282
        },
        "id": "z9yn9wbBgLje",
        "outputId": "fc4f2a8b-83d0-4405-dcf2-83e9b8973aea"
      },
      "source": [
        "image , label = dataset[10]\r\n",
        "plt.imshow(image, cmap = \"gray\")\r\n",
        "print(\"Label:\", label)"
      ],
      "execution_count": 8,
      "outputs": [
        {
          "output_type": "stream",
          "text": [
            "Label: 3\n"
          ],
          "name": "stdout"
        },
        {
          "output_type": "display_data",
          "data": {
            "image/png": "[encoded data removed]",
            "text/plain": [
              "<Figure size 432x288 with 1 Axes>"
            ]
          },
          "metadata": {
            "tags": [],
            "needs_background": "light"
          }
        }
      ]
    },
    {
      "cell_type": "code",
      "metadata": {
        "id": "vhGJLB3bgWto"
      },
      "source": [
        "import torchvision.transforms as transforms"
      ],
      "execution_count": 9,
      "outputs": []
    },
    {
      "cell_type": "code",
      "metadata": {
        "id": "xzxKiPkDghdh"
      },
      "source": [
        "dataset = MNIST(root = \"/content/drive/MyDrive/Datasets\", train = True , transform= transforms.ToTensor())"
      ],
      "execution_count": 11,
      "outputs": []
    },
    {
      "cell_type": "code",
      "metadata": {
        "colab": {
          "base_uri": "https://localhost:8080/"
        },
        "id": "yQ3szjszguQo",
        "outputId": "43b75ee8-033c-4fc6-ba85-e9ac9290d3d8"
      },
      "source": [
        "img_tensor , label = dataset[0]\r\n",
        "print(img_tensor.shape,label)"
      ],
      "execution_count": 12,
      "outputs": [
        {
          "output_type": "stream",
          "text": [
            "torch.Size([1, 28, 28]) 5\n"
          ],
          "name": "stdout"
        }
      ]
    },
    {
      "cell_type": "code",
      "metadata": {
        "colab": {
          "base_uri": "https://localhost:8080/"
        },
        "id": "0Rd1VOoPg_Jc",
        "outputId": "2c6f9922-f385-4dab-f546-8cad8f45d02a"
      },
      "source": [
        "print(img_tensor[0 , 10:15 , 10:15]) \r\n",
        "print(torch.max(img_tensor) , torch.min(img_tensor))"
      ],
      "execution_count": 14,
      "outputs": [
        {
          "output_type": "stream",
          "text": [
            "tensor([[0.0039, 0.6039, 0.9922, 0.3529, 0.0000],\n",
            "        [0.0000, 0.5451, 0.9922, 0.7451, 0.0078],\n",
            "        [0.0000, 0.0431, 0.7451, 0.9922, 0.2745],\n",
            "        [0.0000, 0.0000, 0.1373, 0.9451, 0.8824],\n",
            "        [0.0000, 0.0000, 0.0000, 0.3176, 0.9412]])\n",
            "tensor(1.) tensor(0.)\n"
          ],
          "name": "stdout"
        }
      ]
    },
    {
      "cell_type": "code",
      "metadata": {
        "colab": {
          "base_uri": "https://localhost:8080/",
          "height": 282
        },
        "id": "KJ2DsvGchLA2",
        "outputId": "6cfc9f53-033a-41d4-b73f-af71dd524912"
      },
      "source": [
        "plt.imshow(img_tensor[0 , 10:15 , 10:15] , cmap = \"gray\")"
      ],
      "execution_count": 15,
      "outputs": [
        {
          "output_type": "execute_result",
          "data": {
            "text/plain": [
              "<matplotlib.image.AxesImage at 0x7fe3e019fac8>"
            ]
          },
          "metadata": {
            "tags": []
          },
          "execution_count": 15
        },
        {
          "output_type": "display_data",
          "data": {
            "image/png": "[encoded data removed]",
            "text/plain": [
              "<Figure size 432x288 with 1 Axes>"
            ]
          },
          "metadata": {
            "tags": [],
            "needs_background": "light"
          }
        }
      ]
    },
    {
      "cell_type": "markdown",
      "metadata": {
        "id": "8YA2yM2Rhrwz"
      },
      "source": [
        "## Training and Validation Dataset "
      ]
    },
    {
      "cell_type": "code",
      "metadata": {
        "colab": {
          "base_uri": "https://localhost:8080/"
        },
        "id": "iqYIRRmKhpCU",
        "outputId": "d986c85e-6222-4b1d-aa34-869f25466019"
      },
      "source": [
        "from torch.utils.data import random_split\r\n",
        "\r\n",
        "train_ds , val_ds = random_split(dataset , [50000 , 10000])\r\n",
        "len(train_ds), len(val_ds)"
      ],
      "execution_count": 16,
      "outputs": [
        {
          "output_type": "execute_result",
          "data": {
            "text/plain": [
              "(50000, 10000)"
            ]
          },
          "metadata": {
            "tags": []
          },
          "execution_count": 16
        }
      ]
    },
    {
      "cell_type": "code",
      "metadata": {
        "id": "4wsLraUOiS6F"
      },
      "source": [
        "from torch.utils.data import DataLoader\r\n",
        "\r\n",
        "batch_size = 128\r\n",
        "train_loader = DataLoader(train_ds, batch_size , shuffle = True)\r\n",
        "val_loader = DataLoader(val_ds,batch_size)"
      ],
      "execution_count": 17,
      "outputs": []
    },
    {
      "cell_type": "code",
      "metadata": {
        "id": "gytQuZQ_jJr2"
      },
      "source": [
        "import torch.nn as nn\r\n",
        "\r\n",
        "input_size = 28*28\r\n",
        "num_classes = 10\r\n",
        "\r\n",
        "model = nn.Linear(input_size , num_classes)"
      ],
      "execution_count": 18,
      "outputs": []
    },
    {
      "cell_type": "code",
      "metadata": {
        "colab": {
          "base_uri": "https://localhost:8080/"
        },
        "id": "D4nqJ69QjgJr",
        "outputId": "3dabe519-644b-44ed-b9d0-83034947cb6b"
      },
      "source": [
        "print(model.weight.shape)\r\n",
        "model.weight"
      ],
      "execution_count": 19,
      "outputs": [
        {
          "output_type": "stream",
          "text": [
            "torch.Size([10, 784])\n"
          ],
          "name": "stdout"
        },
        {
          "output_type": "execute_result",
          "data": {
            "text/plain": [
              "Parameter containing:\n",
              "tensor([[ 0.0253,  0.0067,  0.0204,  ...,  0.0122,  0.0144, -0.0270],\n",
              "        [ 0.0169, -0.0088,  0.0253,  ...,  0.0005, -0.0249,  0.0151],\n",
              "        [-0.0151,  0.0216, -0.0159,  ...,  0.0159, -0.0140, -0.0041],\n",
              "        ...,\n",
              "        [-0.0250, -0.0118, -0.0243,  ..., -0.0065, -0.0224, -0.0078],\n",
              "        [ 0.0263, -0.0194,  0.0300,  ..., -0.0090,  0.0261,  0.0339],\n",
              "        [ 0.0339,  0.0275,  0.0212,  ..., -0.0250, -0.0083, -0.0276]],\n",
              "       requires_grad=True)"
            ]
          },
          "metadata": {
            "tags": []
          },
          "execution_count": 19
        }
      ]
    },
    {
      "cell_type": "code",
      "metadata": {
        "colab": {
          "base_uri": "https://localhost:8080/"
        },
        "id": "S2YDWJ65jmVI",
        "outputId": "914b61e5-4312-4046-843c-4508dd800a6e"
      },
      "source": [
        "print(model.bias.shape)\r\n",
        "model.bias"
      ],
      "execution_count": 20,
      "outputs": [
        {
          "output_type": "stream",
          "text": [
            "torch.Size([10])\n"
          ],
          "name": "stdout"
        },
        {
          "output_type": "execute_result",
          "data": {
            "text/plain": [
              "Parameter containing:\n",
              "tensor([-0.0126,  0.0244, -0.0298,  0.0265,  0.0036,  0.0317,  0.0069,  0.0118,\n",
              "        -0.0300, -0.0276], requires_grad=True)"
            ]
          },
          "metadata": {
            "tags": []
          },
          "execution_count": 20
        }
      ]
    },
    {
      "cell_type": "code",
      "metadata": {
        "colab": {
          "base_uri": "https://localhost:8080/",
          "height": 493
        },
        "id": "K540dQ-ejtUr",
        "outputId": "4c2ab2e9-124e-4ef2-adca-368eeb3ee437"
      },
      "source": [
        "for images, label in train_loader:\r\n",
        "  print(label)\r\n",
        "  print(images.shape)\r\n",
        "  output = model(images)\r\n",
        "  print(outputs.shape)\r\n",
        "  break"
      ],
      "execution_count": 21,
      "outputs": [
        {
          "output_type": "stream",
          "text": [
            "tensor([5, 5, 8, 7, 6, 1, 6, 6, 9, 5, 2, 7, 0, 2, 4, 1, 1, 3, 8, 2, 4, 5, 4, 9,\n",
            "        6, 4, 1, 8, 1, 7, 7, 8, 7, 4, 7, 2, 2, 0, 8, 2, 4, 6, 1, 7, 0, 5, 6, 0,\n",
            "        5, 2, 5, 7, 0, 5, 3, 3, 2, 3, 3, 9, 5, 0, 0, 9, 1, 7, 2, 3, 1, 9, 8, 9,\n",
            "        0, 3, 4, 6, 8, 9, 4, 3, 9, 1, 1, 1, 8, 8, 1, 8, 3, 3, 3, 5, 4, 1, 2, 3,\n",
            "        9, 0, 9, 0, 4, 7, 4, 9, 3, 9, 9, 1, 2, 8, 7, 1, 3, 1, 9, 1, 4, 6, 7, 4,\n",
            "        6, 7, 9, 1, 5, 5, 6, 7])\n",
            "torch.Size([128, 1, 28, 28])\n"
          ],
          "name": "stdout"
        },
        {
          "output_type": "error",
          "ename": "RuntimeError",
          "evalue": "ignored",
          "traceback": [
            "\u001b[0;31m---------------------------------------------------------------------------\u001b[0m",
            "\u001b[0;31mRuntimeError\u001b[0m                              Traceback (most recent call last)",
            "\u001b[0;32m<ipython-input-21-5cd60a3c67d0>\u001b[0m in \u001b[0;36m<module>\u001b[0;34m()\u001b[0m\n\u001b[1;32m      2\u001b[0m   \u001b[0mprint\u001b[0m\u001b[0;34m(\u001b[0m\u001b[0mlabel\u001b[0m\u001b[0;34m)\u001b[0m\u001b[0;34m\u001b[0m\u001b[0;34m\u001b[0m\u001b[0m\n\u001b[1;32m      3\u001b[0m   \u001b[0mprint\u001b[0m\u001b[0;34m(\u001b[0m\u001b[0mimages\u001b[0m\u001b[0;34m.\u001b[0m\u001b[0mshape\u001b[0m\u001b[0;34m)\u001b[0m\u001b[0;34m\u001b[0m\u001b[0;34m\u001b[0m\u001b[0m\n\u001b[0;32m----> 4\u001b[0;31m   \u001b[0moutput\u001b[0m \u001b[0;34m=\u001b[0m \u001b[0mmodel\u001b[0m\u001b[0;34m(\u001b[0m\u001b[0mimages\u001b[0m\u001b[0;34m)\u001b[0m\u001b[0;34m\u001b[0m\u001b[0;34m\u001b[0m\u001b[0m\n\u001b[0m\u001b[1;32m      5\u001b[0m   \u001b[0mprint\u001b[0m\u001b[0;34m(\u001b[0m\u001b[0moutputs\u001b[0m\u001b[0;34m.\u001b[0m\u001b[0mshape\u001b[0m\u001b[0;34m)\u001b[0m\u001b[0;34m\u001b[0m\u001b[0;34m\u001b[0m\u001b[0m\n\u001b[1;32m      6\u001b[0m   \u001b[0;32mbreak\u001b[0m\u001b[0;34m\u001b[0m\u001b[0;34m\u001b[0m\u001b[0m\n",
            "\u001b[0;32m/usr/local/lib/python3.6/dist-packages/torch/nn/modules/module.py\u001b[0m in \u001b[0;36m_call_impl\u001b[0;34m(self, *input, **kwargs)\u001b[0m\n\u001b[1;32m    725\u001b[0m             \u001b[0mresult\u001b[0m \u001b[0;34m=\u001b[0m \u001b[0mself\u001b[0m\u001b[0;34m.\u001b[0m\u001b[0m_slow_forward\u001b[0m\u001b[0;34m(\u001b[0m\u001b[0;34m*\u001b[0m\u001b[0minput\u001b[0m\u001b[0;34m,\u001b[0m \u001b[0;34m**\u001b[0m\u001b[0mkwargs\u001b[0m\u001b[0;34m)\u001b[0m\u001b[0;34m\u001b[0m\u001b[0;34m\u001b[0m\u001b[0m\n\u001b[1;32m    726\u001b[0m         \u001b[0;32melse\u001b[0m\u001b[0;34m:\u001b[0m\u001b[0;34m\u001b[0m\u001b[0;34m\u001b[0m\u001b[0m\n\u001b[0;32m--> 727\u001b[0;31m             \u001b[0mresult\u001b[0m \u001b[0;34m=\u001b[0m \u001b[0mself\u001b[0m\u001b[0;34m.\u001b[0m\u001b[0mforward\u001b[0m\u001b[0;34m(\u001b[0m\u001b[0;34m*\u001b[0m\u001b[0minput\u001b[0m\u001b[0;34m,\u001b[0m \u001b[0;34m**\u001b[0m\u001b[0mkwargs\u001b[0m\u001b[0;34m)\u001b[0m\u001b[0;34m\u001b[0m\u001b[0;34m\u001b[0m\u001b[0m\n\u001b[0m\u001b[1;32m    728\u001b[0m         for hook in itertools.chain(\n\u001b[1;32m    729\u001b[0m                 \u001b[0m_global_forward_hooks\u001b[0m\u001b[0;34m.\u001b[0m\u001b[0mvalues\u001b[0m\u001b[0;34m(\u001b[0m\u001b[0;34m)\u001b[0m\u001b[0;34m,\u001b[0m\u001b[0;34m\u001b[0m\u001b[0;34m\u001b[0m\u001b[0m\n",
            "\u001b[0;32m/usr/local/lib/python3.6/dist-packages/torch/nn/modules/linear.py\u001b[0m in \u001b[0;36mforward\u001b[0;34m(self, input)\u001b[0m\n\u001b[1;32m     91\u001b[0m \u001b[0;34m\u001b[0m\u001b[0m\n\u001b[1;32m     92\u001b[0m     \u001b[0;32mdef\u001b[0m \u001b[0mforward\u001b[0m\u001b[0;34m(\u001b[0m\u001b[0mself\u001b[0m\u001b[0;34m,\u001b[0m \u001b[0minput\u001b[0m\u001b[0;34m:\u001b[0m \u001b[0mTensor\u001b[0m\u001b[0;34m)\u001b[0m \u001b[0;34m->\u001b[0m \u001b[0mTensor\u001b[0m\u001b[0;34m:\u001b[0m\u001b[0;34m\u001b[0m\u001b[0;34m\u001b[0m\u001b[0m\n\u001b[0;32m---> 93\u001b[0;31m         \u001b[0;32mreturn\u001b[0m \u001b[0mF\u001b[0m\u001b[0;34m.\u001b[0m\u001b[0mlinear\u001b[0m\u001b[0;34m(\u001b[0m\u001b[0minput\u001b[0m\u001b[0;34m,\u001b[0m \u001b[0mself\u001b[0m\u001b[0;34m.\u001b[0m\u001b[0mweight\u001b[0m\u001b[0;34m,\u001b[0m \u001b[0mself\u001b[0m\u001b[0;34m.\u001b[0m\u001b[0mbias\u001b[0m\u001b[0;34m)\u001b[0m\u001b[0;34m\u001b[0m\u001b[0;34m\u001b[0m\u001b[0m\n\u001b[0m\u001b[1;32m     94\u001b[0m \u001b[0;34m\u001b[0m\u001b[0m\n\u001b[1;32m     95\u001b[0m     \u001b[0;32mdef\u001b[0m \u001b[0mextra_repr\u001b[0m\u001b[0;34m(\u001b[0m\u001b[0mself\u001b[0m\u001b[0;34m)\u001b[0m \u001b[0;34m->\u001b[0m \u001b[0mstr\u001b[0m\u001b[0;34m:\u001b[0m\u001b[0;34m\u001b[0m\u001b[0;34m\u001b[0m\u001b[0m\n",
            "\u001b[0;32m/usr/local/lib/python3.6/dist-packages/torch/nn/functional.py\u001b[0m in \u001b[0;36mlinear\u001b[0;34m(input, weight, bias)\u001b[0m\n\u001b[1;32m   1690\u001b[0m         \u001b[0mret\u001b[0m \u001b[0;34m=\u001b[0m \u001b[0mtorch\u001b[0m\u001b[0;34m.\u001b[0m\u001b[0maddmm\u001b[0m\u001b[0;34m(\u001b[0m\u001b[0mbias\u001b[0m\u001b[0;34m,\u001b[0m \u001b[0minput\u001b[0m\u001b[0;34m,\u001b[0m \u001b[0mweight\u001b[0m\u001b[0;34m.\u001b[0m\u001b[0mt\u001b[0m\u001b[0;34m(\u001b[0m\u001b[0;34m)\u001b[0m\u001b[0;34m)\u001b[0m\u001b[0;34m\u001b[0m\u001b[0;34m\u001b[0m\u001b[0m\n\u001b[1;32m   1691\u001b[0m     \u001b[0;32melse\u001b[0m\u001b[0;34m:\u001b[0m\u001b[0;34m\u001b[0m\u001b[0;34m\u001b[0m\u001b[0m\n\u001b[0;32m-> 1692\u001b[0;31m         \u001b[0moutput\u001b[0m \u001b[0;34m=\u001b[0m \u001b[0minput\u001b[0m\u001b[0;34m.\u001b[0m\u001b[0mmatmul\u001b[0m\u001b[0;34m(\u001b[0m\u001b[0mweight\u001b[0m\u001b[0;34m.\u001b[0m\u001b[0mt\u001b[0m\u001b[0;34m(\u001b[0m\u001b[0;34m)\u001b[0m\u001b[0;34m)\u001b[0m\u001b[0;34m\u001b[0m\u001b[0;34m\u001b[0m\u001b[0m\n\u001b[0m\u001b[1;32m   1693\u001b[0m         \u001b[0;32mif\u001b[0m \u001b[0mbias\u001b[0m \u001b[0;32mis\u001b[0m \u001b[0;32mnot\u001b[0m \u001b[0;32mNone\u001b[0m\u001b[0;34m:\u001b[0m\u001b[0;34m\u001b[0m\u001b[0;34m\u001b[0m\u001b[0m\n\u001b[1;32m   1694\u001b[0m             \u001b[0moutput\u001b[0m \u001b[0;34m+=\u001b[0m \u001b[0mbias\u001b[0m\u001b[0;34m\u001b[0m\u001b[0;34m\u001b[0m\u001b[0m\n",
            "\u001b[0;31mRuntimeError\u001b[0m: mat1 and mat2 shapes cannot be multiplied (3584x28 and 784x10)"
          ]
        }
      ]
    },
    {
      "cell_type": "code",
      "metadata": {
        "colab": {
          "base_uri": "https://localhost:8080/"
        },
        "id": "794ULeyOkP-K",
        "outputId": "d7557e0f-2fed-491a-d97f-6e512112ef02"
      },
      "source": [
        "images.shape"
      ],
      "execution_count": 22,
      "outputs": [
        {
          "output_type": "execute_result",
          "data": {
            "text/plain": [
              "torch.Size([128, 1, 28, 28])"
            ]
          },
          "metadata": {
            "tags": []
          },
          "execution_count": 22
        }
      ]
    },
    {
      "cell_type": "code",
      "metadata": {
        "colab": {
          "base_uri": "https://localhost:8080/"
        },
        "id": "m2RUj1MHkbAJ",
        "outputId": "3bfbf7fd-8831-4f37-dc6e-0cd3bca61fa8"
      },
      "source": [
        "images.reshape(128,784).shape"
      ],
      "execution_count": 24,
      "outputs": [
        {
          "output_type": "execute_result",
          "data": {
            "text/plain": [
              "torch.Size([128, 784])"
            ]
          },
          "metadata": {
            "tags": []
          },
          "execution_count": 24
        }
      ]
    },
    {
      "cell_type": "code",
      "metadata": {
        "id": "ifOrzcHskjNZ"
      },
      "source": [
        "class MnistModel(nn.Module):\r\n",
        "    def __init__(self):\r\n",
        "        super().__init__()\r\n",
        "        self.linear = nn.Linear(input_size, num_classes)\r\n",
        "        \r\n",
        "    def forward(self, xb):\r\n",
        "        xb = xb.reshape(-1, 784)\r\n",
        "        out = self.linear(xb)\r\n",
        "        return out\r\n",
        "    \r\n",
        "model = MnistModel()"
      ],
      "execution_count": 34,
      "outputs": []
    },
    {
      "cell_type": "code",
      "metadata": {
        "colab": {
          "base_uri": "https://localhost:8080/"
        },
        "id": "YaoBRqa6lve5",
        "outputId": "125f1e38-6709-43a8-d5b1-80fbd37c59e5"
      },
      "source": [
        "model.linear"
      ],
      "execution_count": 28,
      "outputs": [
        {
          "output_type": "execute_result",
          "data": {
            "text/plain": [
              "Linear(in_features=784, out_features=10, bias=True)"
            ]
          },
          "metadata": {
            "tags": []
          },
          "execution_count": 28
        }
      ]
    },
    {
      "cell_type": "code",
      "metadata": {
        "colab": {
          "base_uri": "https://localhost:8080/"
        },
        "id": "mOxD32bHmCZj",
        "outputId": "1ca622a3-f084-4f87-a908-e1c079ffd1f7"
      },
      "source": [
        "print(model.linear.weight.shape , model.linear.bias.shape)\r\n",
        "list(model.parameters())"
      ],
      "execution_count": 32,
      "outputs": [
        {
          "output_type": "stream",
          "text": [
            "torch.Size([10, 784]) torch.Size([10])\n"
          ],
          "name": "stdout"
        },
        {
          "output_type": "execute_result",
          "data": {
            "text/plain": [
              "[Parameter containing:\n",
              " tensor([[ 0.0160,  0.0052, -0.0320,  ...,  0.0029, -0.0171, -0.0069],\n",
              "         [-0.0041, -0.0244,  0.0162,  ...,  0.0209, -0.0133,  0.0303],\n",
              "         [-0.0154, -0.0160,  0.0108,  ..., -0.0075, -0.0084,  0.0314],\n",
              "         ...,\n",
              "         [ 0.0113, -0.0304, -0.0237,  ...,  0.0175, -0.0068, -0.0007],\n",
              "         [ 0.0230, -0.0056,  0.0271,  ...,  0.0032, -0.0154, -0.0317],\n",
              "         [-0.0018, -0.0208,  0.0092,  ..., -0.0209,  0.0174,  0.0296]],\n",
              "        requires_grad=True), Parameter containing:\n",
              " tensor([-0.0011, -0.0031, -0.0254, -0.0028, -0.0104,  0.0284, -0.0288,  0.0180,\n",
              "         -0.0341,  0.0238], requires_grad=True)]"
            ]
          },
          "metadata": {
            "tags": []
          },
          "execution_count": 32
        }
      ]
    },
    {
      "cell_type": "code",
      "metadata": {
        "colab": {
          "base_uri": "https://localhost:8080/"
        },
        "id": "TsbEP5AJmUtF",
        "outputId": "2bcacb40-3c8d-4b6b-a5bd-5dda77e83fbf"
      },
      "source": [
        "for images,labels in train_loader:\r\n",
        "  print(images.shape)\r\n",
        "  output = model(images)\r\n",
        "  break\r\n",
        "\r\n",
        "print(\"Outputs.shape:\" , output.shape)\r\n",
        "print(\"Sample Output: \\n\", output[:2].data)"
      ],
      "execution_count": 35,
      "outputs": [
        {
          "output_type": "stream",
          "text": [
            "torch.Size([128, 1, 28, 28])\n",
            "Outputs.shape: torch.Size([128, 10])\n",
            "Sample Output: \n",
            " tensor([[-0.2266, -0.1410, -0.1962,  0.3531,  0.1656, -0.3915, -0.2488, -0.3930,\n",
            "          0.0878,  0.0063],\n",
            "        [-0.2954, -0.3175, -0.2157, -0.0353,  0.1566, -0.2847, -0.1711, -0.3480,\n",
            "          0.1996,  0.0014]])\n"
          ],
          "name": "stdout"
        }
      ]
    },
    {
      "cell_type": "code",
      "metadata": {
        "id": "_7gNWFCTnPKs"
      },
      "source": [
        "import torch.nn.functional as F"
      ],
      "execution_count": 39,
      "outputs": []
    },
    {
      "cell_type": "code",
      "metadata": {
        "colab": {
          "base_uri": "https://localhost:8080/"
        },
        "id": "igtu-avSnpM1",
        "outputId": "6b8b54a4-1eb0-4466-b73b-f649301bad2f"
      },
      "source": [
        "output[:2]"
      ],
      "execution_count": 37,
      "outputs": [
        {
          "output_type": "execute_result",
          "data": {
            "text/plain": [
              "tensor([[-0.2266, -0.1410, -0.1962,  0.3531,  0.1656, -0.3915, -0.2488, -0.3930,\n",
              "          0.0878,  0.0063],\n",
              "        [-0.2954, -0.3175, -0.2157, -0.0353,  0.1566, -0.2847, -0.1711, -0.3480,\n",
              "          0.1996,  0.0014]], grad_fn=<SliceBackward>)"
            ]
          },
          "metadata": {
            "tags": []
          },
          "execution_count": 37
        }
      ]
    },
    {
      "cell_type": "code",
      "metadata": {
        "colab": {
          "base_uri": "https://localhost:8080/"
        },
        "id": "bMFHgHm3n29A",
        "outputId": "5ed3bc76-4517-4e11-a6e4-5c0418ae33c1"
      },
      "source": [
        "probs = F.softmax(output , dim=1)\r\n",
        "\r\n",
        "print(\"Sample Probabilities: \\n \", probs[:2].data)\r\n",
        "\r\n",
        "print(\"Sum:\", torch.sum(probs[0]).item())"
      ],
      "execution_count": 40,
      "outputs": [
        {
          "output_type": "stream",
          "text": [
            "Sample Probabilities: \n",
            "  tensor([[0.0855, 0.0932, 0.0882, 0.1527, 0.1266, 0.0725, 0.0837, 0.0724, 0.1171,\n",
            "         0.1080],\n",
            "        [0.0833, 0.0815, 0.0902, 0.1080, 0.1309, 0.0842, 0.0943, 0.0790, 0.1366,\n",
            "         0.1121]])\n",
            "Sum: 1.0\n"
          ],
          "name": "stdout"
        }
      ]
    },
    {
      "cell_type": "code",
      "metadata": {
        "colab": {
          "base_uri": "https://localhost:8080/"
        },
        "id": "dmDKEw7doWRK",
        "outputId": "004573c7-0d7e-4ea8-fb22-ac6136b22c56"
      },
      "source": [
        "max_probs , preds = torch.max(probs, dim=1)\r\n",
        "print(preds)\r\n",
        "print(max_probs)"
      ],
      "execution_count": 41,
      "outputs": [
        {
          "output_type": "stream",
          "text": [
            "tensor([3, 8, 0, 6, 4, 4, 4, 4, 3, 9, 2, 0, 4, 3, 6, 4, 4, 8, 6, 4, 4, 2, 9, 2,\n",
            "        0, 3, 4, 0, 4, 6, 6, 4, 4, 4, 1, 0, 6, 4, 3, 4, 0, 4, 2, 8, 2, 4, 0, 4,\n",
            "        0, 4, 6, 4, 0, 0, 4, 4, 3, 9, 0, 9, 3, 4, 4, 6, 3, 0, 2, 6, 4, 4, 2, 0,\n",
            "        4, 4, 4, 6, 7, 6, 6, 4, 6, 3, 6, 4, 4, 4, 6, 3, 3, 6, 3, 9, 6, 3, 6, 4,\n",
            "        4, 4, 4, 4, 7, 4, 0, 4, 3, 4, 4, 6, 6, 4, 6, 4, 6, 4, 3, 4, 0, 4, 3, 4,\n",
            "        6, 4, 0, 4, 0, 2, 6, 6])\n",
            "tensor([0.1527, 0.1366, 0.1230, 0.1510, 0.1421, 0.1592, 0.1426, 0.1563, 0.1529,\n",
            "        0.1318, 0.1300, 0.1243, 0.1326, 0.1211, 0.1306, 0.1811, 0.1263, 0.1211,\n",
            "        0.1273, 0.1366, 0.1259, 0.1346, 0.1235, 0.1361, 0.1261, 0.1366, 0.1388,\n",
            "        0.1277, 0.1318, 0.1163, 0.1378, 0.1221, 0.1455, 0.1541, 0.1247, 0.1364,\n",
            "        0.1457, 0.1307, 0.1436, 0.1299, 0.1268, 0.1821, 0.1198, 0.1304, 0.1375,\n",
            "        0.1087, 0.1241, 0.1576, 0.1286, 0.1329, 0.1581, 0.1814, 0.1376, 0.1606,\n",
            "        0.1234, 0.1290, 0.1201, 0.1158, 0.1353, 0.1305, 0.1190, 0.1562, 0.1893,\n",
            "        0.1204, 0.1396, 0.1366, 0.1311, 0.1251, 0.1136, 0.1498, 0.1185, 0.1110,\n",
            "        0.1233, 0.1355, 0.1384, 0.1241, 0.1406, 0.1225, 0.1223, 0.1966, 0.1491,\n",
            "        0.1280, 0.1395, 0.1589, 0.1153, 0.1794, 0.1191, 0.1298, 0.1270, 0.1601,\n",
            "        0.1377, 0.1222, 0.1559, 0.1216, 0.1243, 0.1630, 0.1307, 0.1282, 0.1562,\n",
            "        0.1374, 0.1349, 0.1404, 0.1402, 0.1270, 0.1202, 0.1560, 0.1383, 0.1194,\n",
            "        0.1201, 0.1523, 0.1151, 0.1316, 0.1241, 0.2080, 0.1301, 0.1340, 0.1246,\n",
            "        0.1501, 0.1338, 0.1337, 0.1330, 0.1385, 0.1177, 0.1243, 0.1406, 0.1228,\n",
            "        0.1183, 0.1209], grad_fn=<MaxBackward0>)\n"
          ],
          "name": "stdout"
        }
      ]
    },
    {
      "cell_type": "code",
      "metadata": {
        "colab": {
          "base_uri": "https://localhost:8080/"
        },
        "id": "ObAIDhCMowyj",
        "outputId": "7f18af2d-c890-4a27-808a-dfc4ba188179"
      },
      "source": [
        "labels"
      ],
      "execution_count": 42,
      "outputs": [
        {
          "output_type": "execute_result",
          "data": {
            "text/plain": [
              "tensor([9, 6, 3, 1, 2, 1, 9, 4, 0, 0, 5, 9, 2, 5, 5, 8, 8, 5, 3, 9, 8, 3, 0, 7,\n",
              "        7, 4, 7, 3, 1, 1, 3, 7, 4, 7, 3, 8, 1, 8, 9, 9, 9, 9, 7, 9, 0, 5, 8, 2,\n",
              "        9, 7, 2, 6, 9, 9, 0, 6, 0, 4, 1, 5, 3, 8, 7, 3, 4, 9, 9, 8, 7, 9, 7, 5,\n",
              "        8, 9, 7, 6, 0, 1, 6, 7, 1, 5, 1, 4, 6, 6, 9, 8, 4, 2, 3, 2, 2, 5, 7, 1,\n",
              "        0, 5, 8, 6, 0, 7, 4, 7, 5, 4, 5, 3, 3, 1, 1, 6, 6, 7, 6, 7, 3, 8, 0, 5,\n",
              "        7, 3, 2, 2, 4, 8, 3, 5])"
            ]
          },
          "metadata": {
            "tags": []
          },
          "execution_count": 42
        }
      ]
    },
    {
      "cell_type": "markdown",
      "metadata": {
        "id": "_HuyZO7Bo5Mw"
      },
      "source": [
        "## Evaluation Matrix and Cross Entropy"
      ]
    },
    {
      "cell_type": "code",
      "metadata": {
        "colab": {
          "base_uri": "https://localhost:8080/"
        },
        "id": "XnZCpJV8o0hC",
        "outputId": "db452594-3238-416f-9dee-03021b1d4f0f"
      },
      "source": [
        "output[:2]"
      ],
      "execution_count": 43,
      "outputs": [
        {
          "output_type": "execute_result",
          "data": {
            "text/plain": [
              "tensor([[-0.2266, -0.1410, -0.1962,  0.3531,  0.1656, -0.3915, -0.2488, -0.3930,\n",
              "          0.0878,  0.0063],\n",
              "        [-0.2954, -0.3175, -0.2157, -0.0353,  0.1566, -0.2847, -0.1711, -0.3480,\n",
              "          0.1996,  0.0014]], grad_fn=<SliceBackward>)"
            ]
          },
          "metadata": {
            "tags": []
          },
          "execution_count": 43
        }
      ]
    },
    {
      "cell_type": "code",
      "metadata": {
        "colab": {
          "base_uri": "https://localhost:8080/"
        },
        "id": "Bf8MDHxOpGSB",
        "outputId": "223288ae-4d6a-4122-db00-7e1cffb8f298"
      },
      "source": [
        "torch.sum(preds == labels)"
      ],
      "execution_count": 44,
      "outputs": [
        {
          "output_type": "execute_result",
          "data": {
            "text/plain": [
              "tensor(9)"
            ]
          },
          "metadata": {
            "tags": []
          },
          "execution_count": 44
        }
      ]
    },
    {
      "cell_type": "code",
      "metadata": {
        "id": "oXODLBkMpJcT"
      },
      "source": [
        "def accuracy(outputs, labels):\r\n",
        "    _, preds = torch.max(outputs, dim=1)\r\n",
        "    return torch.tensor(torch.sum(preds == labels).item() / len(preds))"
      ],
      "execution_count": 66,
      "outputs": []
    },
    {
      "cell_type": "code",
      "metadata": {
        "colab": {
          "base_uri": "https://localhost:8080/"
        },
        "id": "mmBH8NrEplbB",
        "outputId": "26d5094f-4ac5-4a11-97b3-710d79af1c88"
      },
      "source": [
        "accuracy(output , labels)"
      ],
      "execution_count": 46,
      "outputs": [
        {
          "output_type": "execute_result",
          "data": {
            "text/plain": [
              "tensor(0.0703)"
            ]
          },
          "metadata": {
            "tags": []
          },
          "execution_count": 46
        }
      ]
    },
    {
      "cell_type": "code",
      "metadata": {
        "colab": {
          "base_uri": "https://localhost:8080/"
        },
        "id": "IoywJBu0pq8r",
        "outputId": "7cfb1091-b36f-4670-ab18-b5d429ed9193"
      },
      "source": [
        "probs"
      ],
      "execution_count": 47,
      "outputs": [
        {
          "output_type": "execute_result",
          "data": {
            "text/plain": [
              "tensor([[0.0855, 0.0932, 0.0882,  ..., 0.0724, 0.1171, 0.1080],\n",
              "        [0.0833, 0.0815, 0.0902,  ..., 0.0790, 0.1366, 0.1121],\n",
              "        [0.1230, 0.1029, 0.1205,  ..., 0.1066, 0.0888, 0.0857],\n",
              "        ...,\n",
              "        [0.1003, 0.1015, 0.1228,  ..., 0.0761, 0.1091, 0.0922],\n",
              "        [0.0921, 0.1054, 0.0979,  ..., 0.1009, 0.1068, 0.1022],\n",
              "        [0.1208, 0.0912, 0.1048,  ..., 0.1051, 0.0839, 0.0833]],\n",
              "       grad_fn=<SoftmaxBackward>)"
            ]
          },
          "metadata": {
            "tags": []
          },
          "execution_count": 47
        }
      ]
    },
    {
      "cell_type": "code",
      "metadata": {
        "colab": {
          "base_uri": "https://localhost:8080/"
        },
        "id": "BgVsNeyoptHq",
        "outputId": "62db60b6-39e0-4502-f7a5-ed9e938d3802"
      },
      "source": [
        "output"
      ],
      "execution_count": 49,
      "outputs": [
        {
          "output_type": "execute_result",
          "data": {
            "text/plain": [
              "tensor([[-0.2266, -0.1410, -0.1962,  ..., -0.3930,  0.0878,  0.0063],\n",
              "        [-0.2954, -0.3175, -0.2157,  ..., -0.3480,  0.1996,  0.0014],\n",
              "        [ 0.1607, -0.0177,  0.1402,  ...,  0.0172, -0.1647, -0.2003],\n",
              "        ...,\n",
              "        [-0.0156, -0.0030,  0.1876,  ..., -0.2914,  0.0692, -0.0992],\n",
              "        [-0.1167,  0.0183, -0.0548,  ..., -0.0247,  0.0319, -0.0117],\n",
              "        [ 0.1575, -0.1232,  0.0156,  ...,  0.0185, -0.2063, -0.2144]],\n",
              "       grad_fn=<AddmmBackward>)"
            ]
          },
          "metadata": {
            "tags": []
          },
          "execution_count": 49
        }
      ]
    },
    {
      "cell_type": "code",
      "metadata": {
        "id": "U3RKgoJ3px25"
      },
      "source": [
        "loss_fn = F.cross_entropy"
      ],
      "execution_count": 50,
      "outputs": []
    },
    {
      "cell_type": "code",
      "metadata": {
        "colab": {
          "base_uri": "https://localhost:8080/"
        },
        "id": "PmTd0Fg8p5Vk",
        "outputId": "9e6505e8-8aa8-4e01-807c-775ed25a481a"
      },
      "source": [
        "loss = loss_fn(output , labels)\r\n",
        "print(loss)"
      ],
      "execution_count": 52,
      "outputs": [
        {
          "output_type": "stream",
          "text": [
            "tensor(2.3561, grad_fn=<NllLossBackward>)\n"
          ],
          "name": "stdout"
        }
      ]
    },
    {
      "cell_type": "markdown",
      "metadata": {
        "id": "Orw5_3vFqUxb"
      },
      "source": [
        "## Model Training"
      ]
    },
    {
      "cell_type": "code",
      "metadata": {
        "id": "S2h07yU2p-Q9"
      },
      "source": [
        "def fit(epochs , lr , model , train_loader , val_loader , opt_func = torch.optim.SGD):\r\n",
        "  optimizer = opt_func(model.parameters(), lr)\r\n",
        "  history = []\r\n",
        "  for epoch in range(epochs):\r\n",
        "    # Training Phase\r\n",
        "    for batch in train_loader:\r\n",
        "      loss = model.training_step(batch)\r\n",
        "      loss.backward()\r\n",
        "      optimizer.step()\r\n",
        "      optimizer.zero_grad()\r\n",
        "\r\n",
        "    result = evaluate(model , val_loader)\r\n",
        "    model.epoch_end(epoch , result)\r\n",
        "    history.append(result)\r\n",
        "\r\n",
        "  return history\r\n"
      ],
      "execution_count": 78,
      "outputs": []
    },
    {
      "cell_type": "code",
      "metadata": {
        "id": "SjyWukBTr3sC"
      },
      "source": [
        "l1 = [1,2,3,4,5]"
      ],
      "execution_count": 54,
      "outputs": []
    },
    {
      "cell_type": "code",
      "metadata": {
        "colab": {
          "base_uri": "https://localhost:8080/"
        },
        "id": "64IN3-ttr5dJ",
        "outputId": "afea14b9-d0ae-49b1-f0e6-3106605e2eb5"
      },
      "source": [
        "l2 = [x*2 for x in l1]\r\n",
        "l2"
      ],
      "execution_count": 56,
      "outputs": [
        {
          "output_type": "execute_result",
          "data": {
            "text/plain": [
              "[2, 4, 6, 8, 10]"
            ]
          },
          "metadata": {
            "tags": []
          },
          "execution_count": 56
        }
      ]
    },
    {
      "cell_type": "code",
      "metadata": {
        "id": "ZZjmDbs0r_Ph"
      },
      "source": [
        "def evaluate(model, val_loader):\r\n",
        "    output = [model.validation_step(batch) for batch in val_loader]\r\n",
        "    return model.validation_epoch_end(output)\r\n"
      ],
      "execution_count": 70,
      "outputs": []
    },
    {
      "cell_type": "code",
      "metadata": {
        "id": "l5v7-d9oseHG"
      },
      "source": [
        "class MnistModel(nn.Module):\r\n",
        "    def __init__(self):\r\n",
        "        super().__init__()\r\n",
        "        self.linear = nn.Linear(input_size, num_classes)\r\n",
        "        \r\n",
        "    def forward(self, xb):\r\n",
        "        xb = xb.reshape(-1, 784)\r\n",
        "        out = self.linear(xb)\r\n",
        "        return out\r\n",
        "\r\n",
        "    def training_step(self , batch):\r\n",
        "      images , labels = batch\r\n",
        "      out = self(images)\r\n",
        "      loss = F.cross_entropy(out , labels)\r\n",
        "      return loss\r\n",
        "    \r\n",
        "    def validation_step(self , batch):\r\n",
        "      images , labels = batch\r\n",
        "      out = self(images)\r\n",
        "      loss = F.cross_entropy(out , labels)\r\n",
        "      acc = accuracy(out , labels)\r\n",
        "      return { \"val_loss\": loss , \"val_acc\" : acc }\r\n",
        "\r\n",
        "    def validation_epoch_end(self, output):\r\n",
        "        batch_losses = [x['val_loss'] for x in output]\r\n",
        "        epoch_loss = torch.stack(batch_losses).mean()   # Combine losses\r\n",
        "        batch_accs = [x['val_acc'] for x in output]\r\n",
        "        epoch_acc = torch.stack(batch_accs).mean()      # Combine accuracies\r\n",
        "        return {'val_loss': epoch_loss.item(), 'val_acc': epoch_acc.item()}\r\n",
        "\r\n",
        "    def epoch_end(self, epoch, result):\r\n",
        "        print(\"Epoch [{}], val_loss: {:.4f}, val_acc: {:.4f}\".format(epoch, result['val_loss'], result['val_acc']))\r\n",
        "\r\n",
        "\r\n",
        "model = MnistModel()"
      ],
      "execution_count": 73,
      "outputs": []
    },
    {
      "cell_type": "code",
      "metadata": {
        "colab": {
          "base_uri": "https://localhost:8080/"
        },
        "id": "p4E0n04fuC_P",
        "outputId": "30178934-0f66-4cda-c89f-92dee7c7e7fb"
      },
      "source": [
        "result0 = evaluate(model, val_loader)\r\n",
        "result0"
      ],
      "execution_count": 74,
      "outputs": [
        {
          "output_type": "execute_result",
          "data": {
            "text/plain": [
              "{'val_acc': 0.14329509437084198, 'val_loss': 2.3298075199127197}"
            ]
          },
          "metadata": {
            "tags": []
          },
          "execution_count": 74
        }
      ]
    },
    {
      "cell_type": "code",
      "metadata": {
        "colab": {
          "base_uri": "https://localhost:8080/"
        },
        "id": "hKY_K3jOuPOc",
        "outputId": "93d92f91-a233-4253-c471-1d81b001dbff"
      },
      "source": [
        "history1 = fit(5 , 0.001 , model , train_loader , val_loader)"
      ],
      "execution_count": 79,
      "outputs": [
        {
          "output_type": "stream",
          "text": [
            "Epoch [0], val_loss: 1.6748, val_acc: 0.7229\n",
            "Epoch [1], val_loss: 1.4765, val_acc: 0.7566\n",
            "Epoch [2], val_loss: 1.3268, val_acc: 0.7799\n",
            "Epoch [3], val_loss: 1.2116, val_acc: 0.7966\n",
            "Epoch [4], val_loss: 1.1211, val_acc: 0.8069\n"
          ],
          "name": "stdout"
        }
      ]
    },
    {
      "cell_type": "code",
      "metadata": {
        "colab": {
          "base_uri": "https://localhost:8080/"
        },
        "id": "I5FSsfTwwQDf",
        "outputId": "844a1b9f-78dc-49d4-d3d3-448cef6b37af"
      },
      "source": [
        "history2 = fit(5 , 0.001 , model , train_loader , val_loader)"
      ],
      "execution_count": 80,
      "outputs": [
        {
          "output_type": "stream",
          "text": [
            "Epoch [0], val_loss: 1.0483, val_acc: 0.8150\n",
            "Epoch [1], val_loss: 0.9887, val_acc: 0.8208\n",
            "Epoch [2], val_loss: 0.9390, val_acc: 0.8258\n",
            "Epoch [3], val_loss: 0.8969, val_acc: 0.8286\n",
            "Epoch [4], val_loss: 0.8608, val_acc: 0.8328\n"
          ],
          "name": "stdout"
        }
      ]
    },
    {
      "cell_type": "code",
      "metadata": {
        "colab": {
          "base_uri": "https://localhost:8080/"
        },
        "id": "mdzt5Sq_wm0o",
        "outputId": "1b4e2964-18d7-4683-90d1-8671f89c0c3c"
      },
      "source": [
        "history3 = fit(5 , 0.0001 , model , train_loader , val_loader)"
      ],
      "execution_count": 81,
      "outputs": [
        {
          "output_type": "stream",
          "text": [
            "Epoch [0], val_loss: 0.8575, val_acc: 0.8335\n",
            "Epoch [1], val_loss: 0.8542, val_acc: 0.8337\n",
            "Epoch [2], val_loss: 0.8510, val_acc: 0.8339\n",
            "Epoch [3], val_loss: 0.8478, val_acc: 0.8340\n",
            "Epoch [4], val_loss: 0.8446, val_acc: 0.8344\n"
          ],
          "name": "stdout"
        }
      ]
    },
    {
      "cell_type": "code",
      "metadata": {
        "colab": {
          "base_uri": "https://localhost:8080/"
        },
        "id": "NAU8D4LYwq_v",
        "outputId": "182fd054-f800-4447-e2cb-e45b224082ed"
      },
      "source": [
        "history4 = fit(5 , 0.01 , model , train_loader , val_loader)"
      ],
      "execution_count": 82,
      "outputs": [
        {
          "output_type": "stream",
          "text": [
            "Epoch [0], val_loss: 0.6568, val_acc: 0.8537\n",
            "Epoch [1], val_loss: 0.5740, val_acc: 0.8650\n",
            "Epoch [2], val_loss: 0.5258, val_acc: 0.8724\n",
            "Epoch [3], val_loss: 0.4936, val_acc: 0.8791\n",
            "Epoch [4], val_loss: 0.4702, val_acc: 0.8837\n"
          ],
          "name": "stdout"
        }
      ]
    },
    {
      "cell_type": "code",
      "metadata": {
        "colab": {
          "base_uri": "https://localhost:8080/"
        },
        "id": "I0s0VZoDw3Go",
        "outputId": "fdf20f1f-57b7-40de-86ad-9cfefaca6ba1"
      },
      "source": [
        "history5 = fit(5 , 0.0001 , model , train_loader , val_loader)"
      ],
      "execution_count": 83,
      "outputs": [
        {
          "output_type": "stream",
          "text": [
            "Epoch [0], val_loss: 0.4700, val_acc: 0.8837\n",
            "Epoch [1], val_loss: 0.4698, val_acc: 0.8837\n",
            "Epoch [2], val_loss: 0.4696, val_acc: 0.8837\n",
            "Epoch [3], val_loss: 0.4694, val_acc: 0.8836\n",
            "Epoch [4], val_loss: 0.4692, val_acc: 0.8836\n"
          ],
          "name": "stdout"
        }
      ]
    },
    {
      "cell_type": "code",
      "metadata": {
        "id": "4b2QxM8xxBoB"
      },
      "source": [
        "history = [result0] + history1 + history2 + history3 + history4 + history5"
      ],
      "execution_count": 84,
      "outputs": []
    },
    {
      "cell_type": "code",
      "metadata": {
        "colab": {
          "base_uri": "https://localhost:8080/",
          "height": 312
        },
        "id": "hzS7BpedxZwl",
        "outputId": "cc721ed1-a42e-440f-bd07-f0599b820a50"
      },
      "source": [
        "accuracies = [result[\"val_acc\"] for result in history]\r\n",
        "plt.plot(accuracies , \"-x\")\r\n",
        "plt.xlabel(\"epoch\")\r\n",
        "plt.ylabel(\"Accuracy\")\r\n",
        "plt.title(\"Accuracy vs No. of Epochs\")"
      ],
      "execution_count": 85,
      "outputs": [
        {
          "output_type": "execute_result",
          "data": {
            "text/plain": [
              "Text(0.5, 1.0, 'Accuracy vs No. of Epochs')"
            ]
          },
          "metadata": {
            "tags": []
          },
          "execution_count": 85
        },
        {
          "output_type": "display_data",
          "data": {
            "image/png": "[encoded data removed]",
            "text/plain": [
              "<Figure size 432x288 with 1 Axes>"
            ]
          },
          "metadata": {
            "tags": [],
            "needs_background": "light"
          }
        }
      ]
    },
    {
      "cell_type": "markdown",
      "metadata": {
        "id": "NezT4OQ6yGvr"
      },
      "source": [
        "## Testing With Individual Images"
      ]
    },
    {
      "cell_type": "code",
      "metadata": {
        "id": "JpUZqjuCxYEi"
      },
      "source": [
        "test_dataset = MNIST(root= \"/content/drive/MyDrive/Datasets\", train = False ,transform = transforms.ToTensor())"
      ],
      "execution_count": 86,
      "outputs": []
    },
    {
      "cell_type": "code",
      "metadata": {
        "colab": {
          "base_uri": "https://localhost:8080/",
          "height": 299
        },
        "id": "Wm9TB1mPyekT",
        "outputId": "b6b77726-6442-40c3-c1ee-5f8063224779"
      },
      "source": [
        "img , label = test_dataset[0]\r\n",
        "plt.imshow(img[0] , cmap = \"gray\")\r\n",
        "print(\"Shape:\", img.shape)\r\n",
        "print(\"Label:\", label)"
      ],
      "execution_count": 90,
      "outputs": [
        {
          "output_type": "stream",
          "text": [
            "Shape: torch.Size([1, 28, 28])\n",
            "Label: 7\n"
          ],
          "name": "stdout"
        },
        {
          "output_type": "display_data",
          "data": {
            "image/png": "[encoded data removed]",
            "text/plain": [
              "<Figure size 432x288 with 1 Axes>"
            ]
          },
          "metadata": {
            "tags": [],
            "needs_background": "light"
          }
        }
      ]
    },
    {
      "cell_type": "code",
      "metadata": {
        "id": "EmYirTGyywhD"
      },
      "source": [
        "def predict_image(img , model):\r\n",
        "  xb = img.unsqueeze(0)\r\n",
        "  yb = model(xb)\r\n",
        "  _, preds = torch.max(yb , dim = 1)\r\n",
        "  return preds[0].item()"
      ],
      "execution_count": 91,
      "outputs": []
    },
    {
      "cell_type": "code",
      "metadata": {
        "colab": {
          "base_uri": "https://localhost:8080/",
          "height": 282
        },
        "id": "6L5WjSDWzW2C",
        "outputId": "fd110a22-ac51-43d1-8469-9cc9642e1b1b"
      },
      "source": [
        "img, label = test_dataset[0]\r\n",
        "plt.imshow(img[0], cmap = \"gray\")\r\n",
        "print(\"Label:\" , label , \" ,  Predicted:\", predict_image(img,model))"
      ],
      "execution_count": 93,
      "outputs": [
        {
          "output_type": "stream",
          "text": [
            "Label: 7  ,  Predicted: 7\n"
          ],
          "name": "stdout"
        },
        {
          "output_type": "display_data",
          "data": {
            "image/png": "[encoded data removed]",
            "text/plain": [
              "<Figure size 432x288 with 1 Axes>"
            ]
          },
          "metadata": {
            "tags": [],
            "needs_background": "light"
          }
        }
      ]
    },
    {
      "cell_type": "code",
      "metadata": {
        "colab": {
          "base_uri": "https://localhost:8080/",
          "height": 282
        },
        "id": "0qtZwE1cz1rK",
        "outputId": "a1c46aa8-eff1-4eff-8f24-5f19d566a968"
      },
      "source": [
        "img, label = test_dataset[10]\r\n",
        "plt.imshow(img[0], cmap = \"gray\")\r\n",
        "print(\"Label:\" , label , \" ,  Predicted:\", predict_image(img,model))"
      ],
      "execution_count": 94,
      "outputs": [
        {
          "output_type": "stream",
          "text": [
            "Label: 0  ,  Predicted: 0\n"
          ],
          "name": "stdout"
        },
        {
          "output_type": "display_data",
          "data": {
            "image/png": "[encoded data removed]",
            "text/plain": [
              "<Figure size 432x288 with 1 Axes>"
            ]
          },
          "metadata": {
            "tags": [],
            "needs_background": "light"
          }
        }
      ]
    },
    {
      "cell_type": "code",
      "metadata": {
        "colab": {
          "base_uri": "https://localhost:8080/",
          "height": 282
        },
        "id": "GpqEJ1zA0APw",
        "outputId": "4c80b1d4-b590-455a-abd8-a6c927d253a4"
      },
      "source": [
        "img, label = test_dataset[193]\r\n",
        "plt.imshow(img[0], cmap = \"gray\")\r\n",
        "print(\"Label:\" , label , \" ,  Predicted:\", predict_image(img,model))"
      ],
      "execution_count": 95,
      "outputs": [
        {
          "output_type": "stream",
          "text": [
            "Label: 9  ,  Predicted: 4\n"
          ],
          "name": "stdout"
        },
        {
          "output_type": "display_data",
          "data": {
            "image/png": "[encoded data removed]",
            "text/plain": [
              "<Figure size 432x288 with 1 Axes>"
            ]
          },
          "metadata": {
            "tags": [],
            "needs_background": "light"
          }
        }
      ]
    },
    {
      "cell_type": "code",
      "metadata": {
        "colab": {
          "base_uri": "https://localhost:8080/",
          "height": 282
        },
        "id": "D7PiwkNq0Dws",
        "outputId": "ccb7e388-a226-4bf6-cfda-5d2e8c634015"
      },
      "source": [
        "img, label = test_dataset[1839]\r\n",
        "plt.imshow(img[0], cmap = \"gray\")\r\n",
        "print(\"Label:\" , label , \" ,  Predicted:\", predict_image(img,model))"
      ],
      "execution_count": 96,
      "outputs": [
        {
          "output_type": "stream",
          "text": [
            "Label: 2  ,  Predicted: 8\n"
          ],
          "name": "stdout"
        },
        {
          "output_type": "display_data",
          "data": {
            "image/png": "[encoded data removed]",
            "text/plain": [
              "<Figure size 432x288 with 1 Axes>"
            ]
          },
          "metadata": {
            "tags": [],
            "needs_background": "light"
          }
        }
      ]
    },
    {
      "cell_type": "code",
      "metadata": {
        "colab": {
          "base_uri": "https://localhost:8080/",
          "height": 282
        },
        "id": "Nq24uJUF0IcF",
        "outputId": "14739e47-798f-4ff4-87e2-1f7f5a02da4d"
      },
      "source": [
        "img, label = test_dataset[45]\r\n",
        "plt.imshow(img[0], cmap = \"gray\")\r\n",
        "print(\"Label:\" , label , \" ,  Predicted:\", predict_image(img,model))"
      ],
      "execution_count": 97,
      "outputs": [
        {
          "output_type": "stream",
          "text": [
            "Label: 5  ,  Predicted: 5\n"
          ],
          "name": "stdout"
        },
        {
          "output_type": "display_data",
          "data": {
            "image/png": "[encoded data removed]",
            "text/plain": [
              "<Figure size 432x288 with 1 Axes>"
            ]
          },
          "metadata": {
            "tags": [],
            "needs_background": "light"
          }
        }
      ]
    },
    {
      "cell_type": "code",
      "metadata": {
        "colab": {
          "base_uri": "https://localhost:8080/",
          "height": 282
        },
        "id": "_6xzuwsS0Lup",
        "outputId": "1434b74e-65db-462a-80d3-a941b296093a"
      },
      "source": [
        "img, label = test_dataset[20]\r\n",
        "plt.imshow(img[0], cmap = \"gray\")\r\n",
        "print(\"Label:\" , label , \" ,  Predicted:\", predict_image(img,model))"
      ],
      "execution_count": 98,
      "outputs": [
        {
          "output_type": "stream",
          "text": [
            "Label: 9  ,  Predicted: 9\n"
          ],
          "name": "stdout"
        },
        {
          "output_type": "display_data",
          "data": {
            "image/png": "[encoded data removed]",
            "text/plain": [
              "<Figure size 432x288 with 1 Axes>"
            ]
          },
          "metadata": {
            "tags": [],
            "needs_background": "light"
          }
        }
      ]
    },
    {
      "cell_type": "code",
      "metadata": {
        "colab": {
          "base_uri": "https://localhost:8080/"
        },
        "id": "ih5DXwjz0OIW",
        "outputId": "8a35be0a-aed8-4657-90cb-879e3f31337a"
      },
      "source": [
        "test_loader = DataLoader(test_dataset , batch_size = 256)\r\n",
        "result = evaluate(model, test_loader)\r\n",
        "result"
      ],
      "execution_count": 100,
      "outputs": [
        {
          "output_type": "execute_result",
          "data": {
            "text/plain": [
              "{'val_acc': 0.8885742425918579, 'val_loss': 0.4405744671821594}"
            ]
          },
          "metadata": {
            "tags": []
          },
          "execution_count": 100
        }
      ]
    },
    {
      "cell_type": "markdown",
      "metadata": {
        "id": "AXgKYXhU0lji"
      },
      "source": [
        "**End for today.**"
      ]
    }
  ]
}